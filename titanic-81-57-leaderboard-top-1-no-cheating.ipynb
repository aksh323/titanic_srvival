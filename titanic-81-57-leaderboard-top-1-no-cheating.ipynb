{
 "cells": [
  {
   "cell_type": "markdown",
   "id": "5847da47",
   "metadata": {},
   "source": [
    "# Importing necessery Libraries and module"
   ]
  },
  {
   "cell_type": "code",
   "execution_count": 2,
   "id": "8ae0b383",
   "metadata": {
    "execution": {
     "iopub.execute_input": "2023-03-07T00:28:30.510343Z",
     "iopub.status.busy": "2023-03-07T00:28:30.509541Z",
     "iopub.status.idle": "2023-03-07T00:28:32.550339Z",
     "shell.execute_reply": "2023-03-07T00:28:32.549214Z"
    },
    "papermill": {
     "duration": 2.065292,
     "end_time": "2023-03-07T00:28:32.553490",
     "exception": false,
     "start_time": "2023-03-07T00:28:30.488198",
     "status": "completed"
    },
    "tags": []
   },
   "outputs": [],
   "source": [
    "import pandas as pd\n",
    "import numpy as np\n",
    "\n",
    "import matplotlib.pyplot as plt\n",
    "import seaborn as sns\n",
    "\n",
    "from sklearn.experimental import enable_iterative_imputer\n",
    "from sklearn.impute import (SimpleImputer, IterativeImputer)\n",
    "from sklearn.preprocessing import (OneHotEncoder, StandardScaler)\n",
    "from sklearn.model_selection import (GridSearchCV, cross_val_score)\n",
    "from sklearn.feature_selection import SequentialFeatureSelector\n",
    "from sklearn.ensemble import StackingClassifier\n",
    "from catboost import CatBoostClassifier"
   ]
  },
  {
   "cell_type": "markdown",
   "id": "23c2c577",
   "metadata": {
    "papermill": {
     "duration": 0.019389,
     "end_time": "2023-03-07T00:28:32.593643",
     "exception": false,
     "start_time": "2023-03-07T00:28:32.574254",
     "status": "completed"
    },
    "tags": []
   },
   "source": [
    "# Load data and first look"
   ]
  },
  {
   "cell_type": "code",
   "execution_count": 3,
   "id": "0a950302",
   "metadata": {
    "execution": {
     "iopub.execute_input": "2023-03-07T00:28:32.635223Z",
     "iopub.status.busy": "2023-03-07T00:28:32.634208Z",
     "iopub.status.idle": "2023-03-07T00:28:32.686731Z",
     "shell.execute_reply": "2023-03-07T00:28:32.685714Z"
    },
    "papermill": {
     "duration": 0.075629,
     "end_time": "2023-03-07T00:28:32.689007",
     "exception": false,
     "start_time": "2023-03-07T00:28:32.613378",
     "status": "completed"
    },
    "tags": []
   },
   "outputs": [
    {
     "data": {
      "text/html": [
       "<div>\n",
       "<style scoped>\n",
       "    .dataframe tbody tr th:only-of-type {\n",
       "        vertical-align: middle;\n",
       "    }\n",
       "\n",
       "    .dataframe tbody tr th {\n",
       "        vertical-align: top;\n",
       "    }\n",
       "\n",
       "    .dataframe thead th {\n",
       "        text-align: right;\n",
       "    }\n",
       "</style>\n",
       "<table border=\"1\" class=\"dataframe\">\n",
       "  <thead>\n",
       "    <tr style=\"text-align: right;\">\n",
       "      <th></th>\n",
       "      <th>PassengerId</th>\n",
       "      <th>Survived</th>\n",
       "      <th>Pclass</th>\n",
       "      <th>Name</th>\n",
       "      <th>Sex</th>\n",
       "      <th>Age</th>\n",
       "      <th>SibSp</th>\n",
       "      <th>Parch</th>\n",
       "      <th>Ticket</th>\n",
       "      <th>Fare</th>\n",
       "      <th>Cabin</th>\n",
       "      <th>Embarked</th>\n",
       "    </tr>\n",
       "  </thead>\n",
       "  <tbody>\n",
       "    <tr>\n",
       "      <th>0</th>\n",
       "      <td>1</td>\n",
       "      <td>0</td>\n",
       "      <td>3</td>\n",
       "      <td>Braund, Mr. Owen Harris</td>\n",
       "      <td>male</td>\n",
       "      <td>22.0</td>\n",
       "      <td>1</td>\n",
       "      <td>0</td>\n",
       "      <td>A/5 21171</td>\n",
       "      <td>7.2500</td>\n",
       "      <td>NaN</td>\n",
       "      <td>S</td>\n",
       "    </tr>\n",
       "    <tr>\n",
       "      <th>1</th>\n",
       "      <td>2</td>\n",
       "      <td>1</td>\n",
       "      <td>1</td>\n",
       "      <td>Cumings, Mrs. John Bradley (Florence Briggs Th...</td>\n",
       "      <td>female</td>\n",
       "      <td>38.0</td>\n",
       "      <td>1</td>\n",
       "      <td>0</td>\n",
       "      <td>PC 17599</td>\n",
       "      <td>71.2833</td>\n",
       "      <td>C85</td>\n",
       "      <td>C</td>\n",
       "    </tr>\n",
       "    <tr>\n",
       "      <th>2</th>\n",
       "      <td>3</td>\n",
       "      <td>1</td>\n",
       "      <td>3</td>\n",
       "      <td>Heikkinen, Miss. Laina</td>\n",
       "      <td>female</td>\n",
       "      <td>26.0</td>\n",
       "      <td>0</td>\n",
       "      <td>0</td>\n",
       "      <td>STON/O2. 3101282</td>\n",
       "      <td>7.9250</td>\n",
       "      <td>NaN</td>\n",
       "      <td>S</td>\n",
       "    </tr>\n",
       "    <tr>\n",
       "      <th>3</th>\n",
       "      <td>4</td>\n",
       "      <td>1</td>\n",
       "      <td>1</td>\n",
       "      <td>Futrelle, Mrs. Jacques Heath (Lily May Peel)</td>\n",
       "      <td>female</td>\n",
       "      <td>35.0</td>\n",
       "      <td>1</td>\n",
       "      <td>0</td>\n",
       "      <td>113803</td>\n",
       "      <td>53.1000</td>\n",
       "      <td>C123</td>\n",
       "      <td>S</td>\n",
       "    </tr>\n",
       "    <tr>\n",
       "      <th>4</th>\n",
       "      <td>5</td>\n",
       "      <td>0</td>\n",
       "      <td>3</td>\n",
       "      <td>Allen, Mr. William Henry</td>\n",
       "      <td>male</td>\n",
       "      <td>35.0</td>\n",
       "      <td>0</td>\n",
       "      <td>0</td>\n",
       "      <td>373450</td>\n",
       "      <td>8.0500</td>\n",
       "      <td>NaN</td>\n",
       "      <td>S</td>\n",
       "    </tr>\n",
       "  </tbody>\n",
       "</table>\n",
       "</div>"
      ],
      "text/plain": [
       "   PassengerId  Survived  Pclass  \\\n",
       "0            1         0       3   \n",
       "1            2         1       1   \n",
       "2            3         1       3   \n",
       "3            4         1       1   \n",
       "4            5         0       3   \n",
       "\n",
       "                                                Name     Sex   Age  SibSp  \\\n",
       "0                            Braund, Mr. Owen Harris    male  22.0      1   \n",
       "1  Cumings, Mrs. John Bradley (Florence Briggs Th...  female  38.0      1   \n",
       "2                             Heikkinen, Miss. Laina  female  26.0      0   \n",
       "3       Futrelle, Mrs. Jacques Heath (Lily May Peel)  female  35.0      1   \n",
       "4                           Allen, Mr. William Henry    male  35.0      0   \n",
       "\n",
       "   Parch            Ticket     Fare Cabin Embarked  \n",
       "0      0         A/5 21171   7.2500   NaN        S  \n",
       "1      0          PC 17599  71.2833   C85        C  \n",
       "2      0  STON/O2. 3101282   7.9250   NaN        S  \n",
       "3      0            113803  53.1000  C123        S  \n",
       "4      0            373450   8.0500   NaN        S  "
      ]
     },
     "execution_count": 3,
     "metadata": {},
     "output_type": "execute_result"
    }
   ],
   "source": [
    "# Load data\n",
    "full_df = pd.read_csv('train.csv')\n",
    "test_df = pd.read_csv('test.csv')\n",
    "full_df.head()"
   ]
  },
  {
   "cell_type": "markdown",
   "id": "082a6a97",
   "metadata": {
    "papermill": {
     "duration": 0.019442,
     "end_time": "2023-03-07T00:28:32.728431",
     "exception": false,
     "start_time": "2023-03-07T00:28:32.708989",
     "status": "completed"
    },
    "tags": []
   },
   "source": [
    "# Prepate dataframe for further manipulations"
   ]
  },
  {
   "cell_type": "code",
   "execution_count": 4,
   "id": "1f8af433",
   "metadata": {
    "execution": {
     "iopub.execute_input": "2023-03-07T00:28:32.770819Z",
     "iopub.status.busy": "2023-03-07T00:28:32.770049Z",
     "iopub.status.idle": "2023-03-07T00:28:32.804370Z",
     "shell.execute_reply": "2023-03-07T00:28:32.802767Z"
    },
    "papermill": {
     "duration": 0.058927,
     "end_time": "2023-03-07T00:28:32.807294",
     "exception": false,
     "start_time": "2023-03-07T00:28:32.748367",
     "status": "completed"
    },
    "tags": []
   },
   "outputs": [
    {
     "name": "stdout",
     "output_type": "stream",
     "text": [
      "<class 'pandas.core.frame.DataFrame'>\n",
      "RangeIndex: 1309 entries, 0 to 1308\n",
      "Data columns (total 10 columns):\n",
      " #   Column    Non-Null Count  Dtype  \n",
      "---  ------    --------------  -----  \n",
      " 0   Pclass    1309 non-null   int64  \n",
      " 1   Name      1309 non-null   object \n",
      " 2   Sex       1309 non-null   object \n",
      " 3   Age       1046 non-null   float64\n",
      " 4   SibSp     1309 non-null   int64  \n",
      " 5   Parch     1309 non-null   int64  \n",
      " 6   Ticket    1309 non-null   object \n",
      " 7   Fare      1308 non-null   float64\n",
      " 8   Cabin     295 non-null    object \n",
      " 9   Embarked  1307 non-null   object \n",
      "dtypes: float64(2), int64(3), object(5)\n",
      "memory usage: 102.4+ KB\n"
     ]
    }
   ],
   "source": [
    "# Separate test_df PassengerId (will need it for submission)\n",
    "test_pass_id = test_df.pop('PassengerId')\n",
    "\n",
    "# Keep max index that will be used to back split training and test data\n",
    "X_max_index = full_df.shape[0]\n",
    "\n",
    "# Separate features and target\n",
    "y = full_df.Survived\n",
    "\n",
    "df = full_df.drop(['Survived', 'PassengerId'], axis=1)\n",
    "df = pd.concat([df, test_df], axis=0).reset_index(drop=True)\n",
    "\n",
    "df.info()"
   ]
  },
  {
   "cell_type": "markdown",
   "id": "8cc2d2f7",
   "metadata": {
    "papermill": {
     "duration": 0.019646,
     "end_time": "2023-03-07T00:28:32.847006",
     "exception": false,
     "start_time": "2023-03-07T00:28:32.827360",
     "status": "completed"
    },
    "tags": []
   },
   "source": [
    "- Some features need imputation\n",
    "- Cabin column has a lot of missing values, we will use the availble \n",
    "  values to create a new feature and will drop Cabin\n",
    "- We will create the feature Deck level, using the correlation between\n",
    "  Pclass and info deducted from Cabin column. We suppose that the deck \n",
    "  level could take a role in survivability of the people as the lifeboats \n",
    "  were on the top level.\n",
    "- From Name we will keep just the lastname and use it during creation \n",
    "  of Deck_level.\n",
    "- We will create the feature Title, extracting the title from Name column, \n",
    "  supposing that some category of people had priority to embark the lifeboats."
   ]
  },
  {
   "cell_type": "markdown",
   "id": "d712a086",
   "metadata": {
    "papermill": {
     "duration": 0.019825,
     "end_time": "2023-03-07T00:28:32.886724",
     "exception": false,
     "start_time": "2023-03-07T00:28:32.866899",
     "status": "completed"
    },
    "tags": []
   },
   "source": [
    "# Unprocessed data correlation\n",
    "\n"
   ]
  },
  {
   "cell_type": "code",
   "execution_count": 5,
   "id": "42065fb8",
   "metadata": {
    "execution": {
     "iopub.execute_input": "2023-03-07T00:28:32.928208Z",
     "iopub.status.busy": "2023-03-07T00:28:32.927814Z",
     "iopub.status.idle": "2023-03-07T00:28:32.940421Z",
     "shell.execute_reply": "2023-03-07T00:28:32.939355Z"
    },
    "papermill": {
     "duration": 0.035998,
     "end_time": "2023-03-07T00:28:32.942697",
     "exception": false,
     "start_time": "2023-03-07T00:28:32.906699",
     "status": "completed"
    },
    "tags": []
   },
   "outputs": [
    {
     "name": "stderr",
     "output_type": "stream",
     "text": [
      "C:\\Users\\akash\\AppData\\Local\\Temp\\ipykernel_4852\\2244882211.py:1: FutureWarning: The default value of numeric_only in DataFrame.corr is deprecated. In a future version, it will default to False. Select only valid columns or specify the value of numeric_only to silence this warning.\n",
      "  full_df.corr()['Survived'].sort_values(ascending=False)\n"
     ]
    },
    {
     "data": {
      "text/plain": [
       "Survived       1.000000\n",
       "Fare           0.257307\n",
       "Parch          0.081629\n",
       "PassengerId   -0.005007\n",
       "SibSp         -0.035322\n",
       "Age           -0.077221\n",
       "Pclass        -0.338481\n",
       "Name: Survived, dtype: float64"
      ]
     },
     "execution_count": 5,
     "metadata": {},
     "output_type": "execute_result"
    }
   ],
   "source": [
    "full_df.corr()['Survived'].sort_values(ascending=False)"
   ]
  },
  {
   "cell_type": "markdown",
   "id": "9fb3b3a8",
   "metadata": {
    "papermill": {
     "duration": 0.019837,
     "end_time": "2023-03-07T00:28:32.983454",
     "exception": false,
     "start_time": "2023-03-07T00:28:32.963617",
     "status": "completed"
    },
    "tags": []
   },
   "source": [
    "- Fare and Pclass have the highest correlation to Survived, it seams higher class (also higher Fare) had priority to embarc the lifeboats.\n",
    "- Pclass has negative correlation because Pclass is numbered 1, 2, 3 (high, medium, low), but results to an invers survivability (class 3 = lower chance to survive, class 1 = higher chance)."
   ]
  },
  {
   "cell_type": "markdown",
   "id": "34ae298c",
   "metadata": {
    "papermill": {
     "duration": 0.019776,
     "end_time": "2023-03-07T00:28:33.023830",
     "exception": false,
     "start_time": "2023-03-07T00:28:33.004054",
     "status": "completed"
    },
    "tags": []
   },
   "source": [
    "# Surviving distribution by Age and Sex"
   ]
  },
  {
   "cell_type": "code",
   "execution_count": 6,
   "id": "8553e886",
   "metadata": {
    "execution": {
     "iopub.execute_input": "2023-03-07T00:28:33.067143Z",
     "iopub.status.busy": "2023-03-07T00:28:33.066177Z",
     "iopub.status.idle": "2023-03-07T00:28:33.458838Z",
     "shell.execute_reply": "2023-03-07T00:28:33.457560Z"
    },
    "papermill": {
     "duration": 0.416792,
     "end_time": "2023-03-07T00:28:33.461383",
     "exception": false,
     "start_time": "2023-03-07T00:28:33.044591",
     "status": "completed"
    },
    "tags": []
   },
   "outputs": [
    {
     "data": {
      "image/png": "[encoded data removed]",
      "text/plain": [
       "<Figure size 1000x500 with 2 Axes>"
      ]
     },
     "metadata": {},
     "output_type": "display_data"
    }
   ],
   "source": [
    "fig, axs = plt.subplots(1, 2, figsize=(10, 5), sharey=True)\n",
    "sns.histplot(x='Age', hue='Survived', data=full_df, bins=5, ax=axs[0])\n",
    "sns.countplot(x='Sex', hue='Survived', data=full_df, ax=axs[1])\n",
    "plt.show()"
   ]
  },
  {
   "cell_type": "markdown",
   "id": "a91663c4",
   "metadata": {
    "papermill": {
     "duration": 0.021499,
     "end_time": "2023-03-07T00:28:33.503423",
     "exception": false,
     "start_time": "2023-03-07T00:28:33.481924",
     "status": "completed"
    },
    "tags": []
   },
   "source": [
    "Women and children definetely had more chances to survive"
   ]
  },
  {
   "cell_type": "markdown",
   "id": "4f5449c6",
   "metadata": {
    "papermill": {
     "duration": 0.020276,
     "end_time": "2023-03-07T00:28:33.546129",
     "exception": false,
     "start_time": "2023-03-07T00:28:33.525853",
     "status": "completed"
    },
    "tags": []
   },
   "source": [
    "# Features' instances"
   ]
  },
  {
   "cell_type": "code",
   "execution_count": 7,
   "id": "bae0122e",
   "metadata": {
    "execution": {
     "iopub.execute_input": "2023-03-07T00:28:33.590457Z",
     "iopub.status.busy": "2023-03-07T00:28:33.589841Z",
     "iopub.status.idle": "2023-03-07T00:28:34.487729Z",
     "shell.execute_reply": "2023-03-07T00:28:34.486537Z"
    },
    "papermill": {
     "duration": 0.923013,
     "end_time": "2023-03-07T00:28:34.490677",
     "exception": false,
     "start_time": "2023-03-07T00:28:33.567664",
     "status": "completed"
    },
    "tags": []
   },
   "outputs": [
    {
     "data": {
      "image/png": "[encoded data removed]",
      "text/plain": [
       "<Figure size 1200x800 with 6 Axes>"
      ]
     },
     "metadata": {},
     "output_type": "display_data"
    }
   ],
   "source": [
    "df.hist(bins=30, figsize=(12, 8))\n",
    "plt.show()"
   ]
  },
  {
   "cell_type": "markdown",
   "id": "9107f4bf",
   "metadata": {
    "papermill": {
     "duration": 0.02068,
     "end_time": "2023-03-07T00:28:34.532438",
     "exception": false,
     "start_time": "2023-03-07T00:28:34.511758",
     "status": "completed"
    },
    "tags": []
   },
   "source": [
    "- Attributes have different scales\n",
    "- Some features are skewed right, we should check for outliers and normalize data\n",
    "- Fare has values of 0 that looks weird"
   ]
  },
  {
   "cell_type": "code",
   "execution_count": 8,
   "id": "c6582092",
   "metadata": {
    "execution": {
     "iopub.execute_input": "2023-03-07T00:28:34.577017Z",
     "iopub.status.busy": "2023-03-07T00:28:34.576600Z",
     "iopub.status.idle": "2023-03-07T00:28:34.582759Z",
     "shell.execute_reply": "2023-03-07T00:28:34.581450Z"
    },
    "papermill": {
     "duration": 0.031697,
     "end_time": "2023-03-07T00:28:34.585046",
     "exception": false,
     "start_time": "2023-03-07T00:28:34.553349",
     "status": "completed"
    },
    "tags": []
   },
   "outputs": [],
   "source": [
    "# Zero values in Fare we will consider as an error or outlier and will delete for further imputation\n",
    "df.loc[df.Fare.eq(0), 'Fare'] = np.nan"
   ]
  },
  {
   "cell_type": "markdown",
   "id": "99e53936",
   "metadata": {
    "papermill": {
     "duration": 0.020483,
     "end_time": "2023-03-07T00:28:34.626257",
     "exception": false,
     "start_time": "2023-03-07T00:28:34.605774",
     "status": "completed"
    },
    "tags": []
   },
   "source": [
    "# Create Lastname"
   ]
  },
  {
   "cell_type": "code",
   "execution_count": 9,
   "id": "47906de1",
   "metadata": {
    "execution": {
     "iopub.execute_input": "2023-03-07T00:28:34.669933Z",
     "iopub.status.busy": "2023-03-07T00:28:34.669538Z",
     "iopub.status.idle": "2023-03-07T00:28:34.679936Z",
     "shell.execute_reply": "2023-03-07T00:28:34.678563Z"
    },
    "papermill": {
     "duration": 0.035584,
     "end_time": "2023-03-07T00:28:34.682607",
     "exception": false,
     "start_time": "2023-03-07T00:28:34.647023",
     "status": "completed"
    },
    "tags": []
   },
   "outputs": [],
   "source": [
    "df['Lastname'] = df.Name.str.split(', ').str[0]"
   ]
  },
  {
   "cell_type": "markdown",
   "id": "917ddaed",
   "metadata": {
    "execution": {
     "iopub.execute_input": "2023-01-11T15:59:25.339772Z",
     "iopub.status.busy": "2023-01-11T15:59:25.336617Z",
     "iopub.status.idle": "2023-01-11T15:59:25.372076Z",
     "shell.execute_reply": "2023-01-11T15:59:25.371041Z",
     "shell.execute_reply.started": "2023-01-11T15:59:25.339713Z"
    },
    "papermill": {
     "duration": 0.020473,
     "end_time": "2023-03-07T00:28:34.724184",
     "exception": false,
     "start_time": "2023-03-07T00:28:34.703711",
     "status": "completed"
    },
    "tags": []
   },
   "source": [
    "# Create Title"
   ]
  },
  {
   "cell_type": "code",
   "execution_count": 10,
   "id": "6346c4d5",
   "metadata": {
    "execution": {
     "iopub.execute_input": "2023-03-07T00:28:34.767518Z",
     "iopub.status.busy": "2023-03-07T00:28:34.767105Z",
     "iopub.status.idle": "2023-03-07T00:28:34.779755Z",
     "shell.execute_reply": "2023-03-07T00:28:34.778435Z"
    },
    "papermill": {
     "duration": 0.037311,
     "end_time": "2023-03-07T00:28:34.782215",
     "exception": false,
     "start_time": "2023-03-07T00:28:34.744904",
     "status": "completed"
    },
    "tags": []
   },
   "outputs": [],
   "source": [
    "# Extracting the Title from Name column\n",
    "df['Title'] = df.Name.str.split(', ').str[1]\n",
    "df['Title'] = df.Title.str.split('.').str[0]"
   ]
  },
  {
   "cell_type": "code",
   "execution_count": 11,
   "id": "ba6a73cc",
   "metadata": {
    "execution": {
     "iopub.execute_input": "2023-03-07T00:28:34.825753Z",
     "iopub.status.busy": "2023-03-07T00:28:34.825361Z",
     "iopub.status.idle": "2023-03-07T00:28:34.834335Z",
     "shell.execute_reply": "2023-03-07T00:28:34.833340Z"
    },
    "papermill": {
     "duration": 0.033384,
     "end_time": "2023-03-07T00:28:34.836617",
     "exception": false,
     "start_time": "2023-03-07T00:28:34.803233",
     "status": "completed"
    },
    "tags": []
   },
   "outputs": [
    {
     "data": {
      "text/plain": [
       "Mr              757\n",
       "Miss            260\n",
       "Mrs             197\n",
       "Master           61\n",
       "Rev               8\n",
       "Dr                8\n",
       "Col               4\n",
       "Mlle              2\n",
       "Major             2\n",
       "Ms                2\n",
       "Lady              1\n",
       "Sir               1\n",
       "Mme               1\n",
       "Don               1\n",
       "Capt              1\n",
       "the Countess      1\n",
       "Jonkheer          1\n",
       "Dona              1\n",
       "Name: Title, dtype: int64"
      ]
     },
     "execution_count": 11,
     "metadata": {},
     "output_type": "execute_result"
    }
   ],
   "source": [
    "# Analyze titles\n",
    "df.Title.value_counts()"
   ]
  },
  {
   "cell_type": "markdown",
   "id": "b48b0e37",
   "metadata": {
    "papermill": {
     "duration": 0.020582,
     "end_time": "2023-03-07T00:28:34.877965",
     "exception": false,
     "start_time": "2023-03-07T00:28:34.857383",
     "status": "completed"
    },
    "tags": []
   },
   "source": [
    "We will simplify the titles to the same meaning ones"
   ]
  },
  {
   "cell_type": "code",
   "execution_count": 12,
   "id": "236519d2",
   "metadata": {
    "execution": {
     "iopub.execute_input": "2023-03-07T00:28:34.922376Z",
     "iopub.status.busy": "2023-03-07T00:28:34.921288Z",
     "iopub.status.idle": "2023-03-07T00:28:34.936032Z",
     "shell.execute_reply": "2023-03-07T00:28:34.934757Z"
    },
    "papermill": {
     "duration": 0.039824,
     "end_time": "2023-03-07T00:28:34.938551",
     "exception": false,
     "start_time": "2023-03-07T00:28:34.898727",
     "status": "completed"
    },
    "tags": []
   },
   "outputs": [
    {
     "data": {
      "text/plain": [
       "count    581.000000\n",
       "mean      32.252151\n",
       "std       12.422089\n",
       "min       11.000000\n",
       "25%       23.000000\n",
       "50%       29.000000\n",
       "75%       39.000000\n",
       "max       80.000000\n",
       "Name: Age, dtype: float64"
      ]
     },
     "execution_count": 12,
     "metadata": {},
     "output_type": "execute_result"
    }
   ],
   "source": [
    "# Analyze the title Mr by Age\n",
    "df[df.Title.eq('Mr')].Age.describe()"
   ]
  },
  {
   "cell_type": "code",
   "execution_count": 13,
   "id": "f34a3e4d",
   "metadata": {
    "execution": {
     "iopub.execute_input": "2023-03-07T00:28:34.982746Z",
     "iopub.status.busy": "2023-03-07T00:28:34.982281Z",
     "iopub.status.idle": "2023-03-07T00:28:34.995152Z",
     "shell.execute_reply": "2023-03-07T00:28:34.993946Z"
    },
    "papermill": {
     "duration": 0.038001,
     "end_time": "2023-03-07T00:28:34.997475",
     "exception": false,
     "start_time": "2023-03-07T00:28:34.959474",
     "status": "completed"
    },
    "tags": []
   },
   "outputs": [
    {
     "data": {
      "text/plain": [
       "count    53.000000\n",
       "mean      5.482642\n",
       "std       4.161554\n",
       "min       0.330000\n",
       "25%       2.000000\n",
       "50%       4.000000\n",
       "75%       9.000000\n",
       "max      14.500000\n",
       "Name: Age, dtype: float64"
      ]
     },
     "execution_count": 13,
     "metadata": {},
     "output_type": "execute_result"
    }
   ],
   "source": [
    "# Analyze the title Master by Age\n",
    "df[df.Title.eq('Master')].Age.describe()"
   ]
  },
  {
   "cell_type": "code",
   "execution_count": 14,
   "id": "e29dd701",
   "metadata": {
    "execution": {
     "iopub.execute_input": "2023-03-07T00:28:35.042710Z",
     "iopub.status.busy": "2023-03-07T00:28:35.042256Z",
     "iopub.status.idle": "2023-03-07T00:28:35.057545Z",
     "shell.execute_reply": "2023-03-07T00:28:35.056020Z"
    },
    "papermill": {
     "duration": 0.0417,
     "end_time": "2023-03-07T00:28:35.060309",
     "exception": false,
     "start_time": "2023-03-07T00:28:35.018609",
     "status": "completed"
    },
    "tags": []
   },
   "outputs": [
    {
     "data": {
      "text/plain": [
       "count    170.000000\n",
       "mean      36.994118\n",
       "std       12.901767\n",
       "min       14.000000\n",
       "25%       27.000000\n",
       "50%       35.500000\n",
       "75%       46.500000\n",
       "max       76.000000\n",
       "Name: Age, dtype: float64"
      ]
     },
     "execution_count": 14,
     "metadata": {},
     "output_type": "execute_result"
    }
   ],
   "source": [
    "# Analyze the title Master by Age\n",
    "df[df.Title.eq('Mrs')].Age.describe()"
   ]
  },
  {
   "cell_type": "markdown",
   "id": "d68d9632",
   "metadata": {
    "papermill": {
     "duration": 0.020805,
     "end_time": "2023-03-07T00:28:35.102874",
     "exception": false,
     "start_time": "2023-03-07T00:28:35.082069",
     "status": "completed"
    },
    "tags": []
   },
   "source": [
    "In the dataset title Mr is used from 11 years old and Master to maximum 15 years old.\n",
    "\n",
    "Master is an antiquated title for an underage male.\n",
    "\n",
    "We will join them together and then split again at age 18 to have a clean delimeter between minor and adult male titles.\n",
    "\n",
    "Miss is used for young ladies and also for unmarried ones\n",
    "\n",
    "Title Mrs younger than 18 years we will change to Miss as more apropriate"
   ]
  },
  {
   "cell_type": "code",
   "execution_count": 15,
   "id": "43d513e4",
   "metadata": {
    "execution": {
     "iopub.execute_input": "2023-03-07T00:28:35.147147Z",
     "iopub.status.busy": "2023-03-07T00:28:35.146687Z",
     "iopub.status.idle": "2023-03-07T00:28:35.162866Z",
     "shell.execute_reply": "2023-03-07T00:28:35.161670Z"
    },
    "papermill": {
     "duration": 0.041169,
     "end_time": "2023-03-07T00:28:35.165181",
     "exception": false,
     "start_time": "2023-03-07T00:28:35.124012",
     "status": "completed"
    },
    "tags": []
   },
   "outputs": [],
   "source": [
    "# Grouping the same type titles \n",
    "mrs = ['Mrs', 'Mme']\n",
    "df.loc[df.Title.isin(mrs), 'Title'] = 'Mrs'\n",
    "\n",
    "miss = ['Ms', 'Miss', 'Mlle']\n",
    "df.loc[df.Title.isin(miss), 'Title'] = 'Miss'\n",
    "\n",
    "# Change minor Mr title to Master\n",
    "df.loc[(df.Title.eq('Mr') & df.Age.le(18)), 'Title'] = 'Master'\n",
    "\n",
    "# Change minor Mrs title to Miss\n",
    "df.loc[(df.Title.eq('Mrs') & df.Age.le(18)), 'Title'] = 'Miss'\n",
    "\n",
    "# Separate other titles by sex\n",
    "df.loc[(~df.Title.isin(['Mrs', 'Miss', 'Mr', 'Master']) \n",
    "        & df.Sex.eq('male')), 'Title'] = 'Mr'\n",
    "\n",
    "df.loc[(~df.Title.isin(['Mrs', 'Miss', 'Mr', 'Master']) \n",
    "        & df.Sex.eq('female')), 'Title'] = 'Mrs'"
   ]
  },
  {
   "cell_type": "markdown",
   "id": "5c5f394b",
   "metadata": {
    "papermill": {
     "duration": 0.020907,
     "end_time": "2023-03-07T00:28:35.207151",
     "exception": false,
     "start_time": "2023-03-07T00:28:35.186244",
     "status": "completed"
    },
    "tags": []
   },
   "source": [
    "# Create Status\n",
    "This feature will separate mothers and children from other adults"
   ]
  },
  {
   "cell_type": "code",
   "execution_count": 16,
   "id": "e9209d7a",
   "metadata": {
    "execution": {
     "iopub.execute_input": "2023-03-07T00:28:35.251954Z",
     "iopub.status.busy": "2023-03-07T00:28:35.251529Z",
     "iopub.status.idle": "2023-03-07T00:28:35.266527Z",
     "shell.execute_reply": "2023-03-07T00:28:35.265245Z"
    },
    "papermill": {
     "duration": 0.040955,
     "end_time": "2023-03-07T00:28:35.269245",
     "exception": false,
     "start_time": "2023-03-07T00:28:35.228290",
     "status": "completed"
    },
    "tags": []
   },
   "outputs": [],
   "source": [
    "# Create Child status\n",
    "df.loc[df.Age.le(18), 'Status'] = 'Child'\n",
    "df.loc[df.Title.eq('Master'), 'Status'] = 'Child'\n",
    "\n",
    "# Create Mother status\n",
    "df.loc[(df.Title.eq('Mrs') & df.Parch.gt(0)), 'Status'] = 'Mother'\n",
    "\n",
    "# Create Woman status\n",
    "df.loc[(df.Status.isna() & df.Sex.eq('female')), 'Status'] = 'Woman'\n",
    "\n",
    "# Create Man status\n",
    "df.loc[(df.Status.isna() & df.Sex.eq('male')), 'Status'] = 'Man'"
   ]
  },
  {
   "cell_type": "markdown",
   "id": "bf00a6ba",
   "metadata": {
    "papermill": {
     "duration": 0.021638,
     "end_time": "2023-03-07T00:28:35.312904",
     "exception": false,
     "start_time": "2023-03-07T00:28:35.291266",
     "status": "completed"
    },
    "tags": []
   },
   "source": [
    "# Create Price\n",
    "\n",
    "We should divide the Fare by number of passengers on the same ticket"
   ]
  },
  {
   "cell_type": "code",
   "execution_count": 17,
   "id": "b3fd7d1b",
   "metadata": {
    "execution": {
     "iopub.execute_input": "2023-03-07T00:28:35.357031Z",
     "iopub.status.busy": "2023-03-07T00:28:35.356591Z",
     "iopub.status.idle": "2023-03-07T00:28:35.379369Z",
     "shell.execute_reply": "2023-03-07T00:28:35.378572Z"
    },
    "papermill": {
     "duration": 0.047608,
     "end_time": "2023-03-07T00:28:35.381636",
     "exception": false,
     "start_time": "2023-03-07T00:28:35.334028",
     "status": "completed"
    },
    "tags": []
   },
   "outputs": [
    {
     "data": {
      "text/plain": [
       "1"
      ]
     },
     "execution_count": 17,
     "metadata": {},
     "output_type": "execute_result"
    }
   ],
   "source": [
    "# Analyze Fare by ticket number to be sure that the Fare represents \n",
    "# the full price of the ticket and not the price per person\n",
    "\n",
    "# Split Ticket by series and number\n",
    "df['Ticket_series'] = [i[0] if len(i) > 1 else 0 for i in df.Ticket.str.split()]\n",
    "df['Ticket_nr'] = [i[-1] for i in df.Ticket.str.split()]\n",
    "\n",
    "# Check if Fare min and Fare max of the same ticket number are the same\n",
    "df_fare = df[~df.Fare.isna()]\n",
    "multi_tickets = df_fare.groupby(df_fare.Ticket_nr[df_fare.Ticket_nr.duplicated()])\n",
    "(multi_tickets.Fare.min() != multi_tickets.Fare.max()).sum()"
   ]
  },
  {
   "cell_type": "markdown",
   "id": "bae5d906",
   "metadata": {
    "execution": {
     "iopub.execute_input": "2023-02-04T20:10:52.855161Z",
     "iopub.status.busy": "2023-02-04T20:10:52.854685Z",
     "iopub.status.idle": "2023-02-04T20:10:52.865727Z",
     "shell.execute_reply": "2023-02-04T20:10:52.864764Z",
     "shell.execute_reply.started": "2023-02-04T20:10:52.855120Z"
    },
    "papermill": {
     "duration": 0.021063,
     "end_time": "2023-03-07T00:28:35.424147",
     "exception": false,
     "start_time": "2023-03-07T00:28:35.403084",
     "status": "completed"
    },
    "tags": []
   },
   "source": [
    "There is just 1 ticket where min and max don't corespond, we will ignore it as a mistake"
   ]
  },
  {
   "cell_type": "code",
   "execution_count": 18,
   "id": "10b3c767",
   "metadata": {
    "execution": {
     "iopub.execute_input": "2023-03-07T00:28:35.468900Z",
     "iopub.status.busy": "2023-03-07T00:28:35.467881Z",
     "iopub.status.idle": "2023-03-07T00:28:35.481595Z",
     "shell.execute_reply": "2023-03-07T00:28:35.480577Z"
    },
    "papermill": {
     "duration": 0.038738,
     "end_time": "2023-03-07T00:28:35.484012",
     "exception": false,
     "start_time": "2023-03-07T00:28:35.445274",
     "status": "completed"
    },
    "tags": []
   },
   "outputs": [],
   "source": [
    "# Create a column with the passengers number by ticket \n",
    "ticket_dict = df.groupby('Ticket_nr').Lastname.count().to_dict()\n",
    "df['Passengers_ticket'] = df.Ticket_nr.map(ticket_dict)\n",
    "\n",
    "# Create Price column\n",
    "df['Price'] = (df.Fare / df.Passengers_ticket).round(1)"
   ]
  },
  {
   "cell_type": "markdown",
   "id": "13c9b8fe",
   "metadata": {
    "papermill": {
     "duration": 0.020779,
     "end_time": "2023-03-07T00:28:35.526436",
     "exception": false,
     "start_time": "2023-03-07T00:28:35.505657",
     "status": "completed"
    },
    "tags": []
   },
   "source": [
    "# Create Deck\n",
    "\n",
    "This will have the deck letter"
   ]
  },
  {
   "cell_type": "code",
   "execution_count": 19,
   "id": "4d3417e6",
   "metadata": {
    "execution": {
     "iopub.execute_input": "2023-03-07T00:28:35.570740Z",
     "iopub.status.busy": "2023-03-07T00:28:35.569996Z",
     "iopub.status.idle": "2023-03-07T00:28:35.578843Z",
     "shell.execute_reply": "2023-03-07T00:28:35.577931Z"
    },
    "papermill": {
     "duration": 0.033492,
     "end_time": "2023-03-07T00:28:35.580965",
     "exception": false,
     "start_time": "2023-03-07T00:28:35.547473",
     "status": "completed"
    },
    "tags": []
   },
   "outputs": [
    {
     "data": {
      "text/plain": [
       "1014"
      ]
     },
     "execution_count": 19,
     "metadata": {},
     "output_type": "execute_result"
    }
   ],
   "source": [
    "# Extract Deck letter from Cabin column\n",
    "df['Deck'] = df.Cabin.str[0]\n",
    "\n",
    "# Check how many missing values we have at this step\n",
    "df.Deck.isna().sum()"
   ]
  },
  {
   "cell_type": "code",
   "execution_count": 20,
   "id": "2742bc91",
   "metadata": {
    "execution": {
     "iopub.execute_input": "2023-03-07T00:28:35.626845Z",
     "iopub.status.busy": "2023-03-07T00:28:35.626403Z",
     "iopub.status.idle": "2023-03-07T00:28:35.636687Z",
     "shell.execute_reply": "2023-03-07T00:28:35.635571Z"
    },
    "papermill": {
     "duration": 0.03597,
     "end_time": "2023-03-07T00:28:35.639235",
     "exception": false,
     "start_time": "2023-03-07T00:28:35.603265",
     "status": "completed"
    },
    "tags": []
   },
   "outputs": [
    {
     "data": {
      "text/plain": [
       "Pclass  Deck\n",
       "1       C       94\n",
       "        B       65\n",
       "        D       40\n",
       "        E       34\n",
       "        A       22\n",
       "        T        1\n",
       "2       F       13\n",
       "        D        6\n",
       "        E        4\n",
       "3       F        8\n",
       "        G        5\n",
       "        E        3\n",
       "Name: Deck, dtype: int64"
      ]
     },
     "execution_count": 20,
     "metadata": {},
     "output_type": "execute_result"
    }
   ],
   "source": [
    "# Deck distribution by Pclass\n",
    "df.groupby('Pclass').Deck.value_counts()"
   ]
  },
  {
   "cell_type": "code",
   "execution_count": 21,
   "id": "69dd075e",
   "metadata": {
    "execution": {
     "iopub.execute_input": "2023-03-07T00:28:35.684086Z",
     "iopub.status.busy": "2023-03-07T00:28:35.683615Z",
     "iopub.status.idle": "2023-03-07T00:28:35.693774Z",
     "shell.execute_reply": "2023-03-07T00:28:35.692910Z"
    },
    "papermill": {
     "duration": 0.035174,
     "end_time": "2023-03-07T00:28:35.695860",
     "exception": false,
     "start_time": "2023-03-07T00:28:35.660686",
     "status": "completed"
    },
    "tags": []
   },
   "outputs": [
    {
     "data": {
      "text/plain": [
       "3    693\n",
       "2    254\n",
       "1     67\n",
       "Name: Pclass, dtype: int64"
      ]
     },
     "execution_count": 21,
     "metadata": {},
     "output_type": "execute_result"
    }
   ],
   "source": [
    "# Deck missing values by Pclass\n",
    "df.loc[df.Deck.isna(), 'Pclass'].value_counts()"
   ]
  },
  {
   "cell_type": "markdown",
   "id": "70460733",
   "metadata": {
    "papermill": {
     "duration": 0.021086,
     "end_time": "2023-03-07T00:28:35.738741",
     "exception": false,
     "start_time": "2023-03-07T00:28:35.717655",
     "status": "completed"
    },
    "tags": []
   },
   "source": [
    "- On the 1st step we will impute the Deck letter based on Ticket_nr, if the same Ticket_nr has already an available \n",
    "  value for Deck in other rows\n",
    "  \n",
    "- On the 2nd step we will impute based on Lastname using the same method as in the first step, but to be sure that \n",
    "  the passengers are not from different families with the same Lastname we will use some filters in the process.\n",
    "\n",
    "- On the 3rd step we will impute based on Pclass, as every Pclass was on separate Deck with some intersections between \n",
    "  (some googling confirms that class-deck distribution corresponds to our Deck distribution by Pclass analysis). \n",
    "  To improve the accuracy we will check also the mean Price for each Pclass-Deck group to determine the Deck. "
   ]
  },
  {
   "cell_type": "code",
   "execution_count": 22,
   "id": "9e2f1020",
   "metadata": {
    "execution": {
     "iopub.execute_input": "2023-03-07T00:28:35.784187Z",
     "iopub.status.busy": "2023-03-07T00:28:35.783003Z",
     "iopub.status.idle": "2023-03-07T00:28:35.791235Z",
     "shell.execute_reply": "2023-03-07T00:28:35.789973Z"
    },
    "papermill": {
     "duration": 0.033574,
     "end_time": "2023-03-07T00:28:35.793735",
     "exception": false,
     "start_time": "2023-03-07T00:28:35.760161",
     "status": "completed"
    },
    "tags": []
   },
   "outputs": [],
   "source": [
    "# Function for imputing Deck\n",
    "def impute_deck_by(feature):\n",
    "    for pclass in range(1, 4):\n",
    "        # Create a mapping dictionary\n",
    "        map_dic = (df[~df.Deck.isna() & df.Pclass.eq(pclass)]\n",
    "                   .groupby(feature).Deck.unique()\n",
    "                   .apply(list).to_dict())\n",
    "\n",
    "        # Keep just the keys with a single deck to avoid \n",
    "        # the same key on different decks\n",
    "        map_dic = {i:j[0] for i, j in map_dic.items() \n",
    "                   if len(j) == 1}\n",
    "\n",
    "        # Imputing Deck from map_dic\n",
    "        df.loc[df.Deck.isna() & df.Pclass.eq(pclass), \n",
    "               'Deck'] = df[feature].map(map_dic)\n",
    "\n",
    "    # Check how many missing values we have at this step\n",
    "    print(df.Deck.isna().sum())"
   ]
  },
  {
   "cell_type": "code",
   "execution_count": 23,
   "id": "039f13fd",
   "metadata": {
    "execution": {
     "iopub.execute_input": "2023-03-07T00:28:35.838377Z",
     "iopub.status.busy": "2023-03-07T00:28:35.837957Z",
     "iopub.status.idle": "2023-03-07T00:28:35.869706Z",
     "shell.execute_reply": "2023-03-07T00:28:35.868340Z"
    },
    "papermill": {
     "duration": 0.057201,
     "end_time": "2023-03-07T00:28:35.872281",
     "exception": false,
     "start_time": "2023-03-07T00:28:35.815080",
     "status": "completed"
    },
    "tags": []
   },
   "outputs": [
    {
     "name": "stdout",
     "output_type": "stream",
     "text": [
      "997\n"
     ]
    }
   ],
   "source": [
    "impute_deck_by('Ticket_nr')"
   ]
  },
  {
   "cell_type": "code",
   "execution_count": 24,
   "id": "31f0c44f",
   "metadata": {
    "execution": {
     "iopub.execute_input": "2023-03-07T00:28:35.919064Z",
     "iopub.status.busy": "2023-03-07T00:28:35.918640Z",
     "iopub.status.idle": "2023-03-07T00:28:35.955127Z",
     "shell.execute_reply": "2023-03-07T00:28:35.953333Z"
    },
    "papermill": {
     "duration": 0.063103,
     "end_time": "2023-03-07T00:28:35.958093",
     "exception": false,
     "start_time": "2023-03-07T00:28:35.894990",
     "status": "completed"
    },
    "tags": []
   },
   "outputs": [
    {
     "name": "stdout",
     "output_type": "stream",
     "text": [
      "989\n"
     ]
    }
   ],
   "source": [
    "impute_deck_by('Lastname')"
   ]
  },
  {
   "cell_type": "markdown",
   "id": "43413fa9",
   "metadata": {
    "papermill": {
     "duration": 0.021524,
     "end_time": "2023-03-07T00:28:36.002338",
     "exception": false,
     "start_time": "2023-03-07T00:28:35.980814",
     "status": "completed"
    },
    "tags": []
   },
   "source": [
    "We have recovered 25 values, not much, but they correspond to reality,\n",
    "the rest we will impute later based on Pclass and Price as mentioned earlier."
   ]
  },
  {
   "cell_type": "markdown",
   "id": "407024d9",
   "metadata": {
    "papermill": {
     "duration": 0.021852,
     "end_time": "2023-03-07T00:28:36.046109",
     "exception": false,
     "start_time": "2023-03-07T00:28:36.024257",
     "status": "completed"
    },
    "tags": []
   },
   "source": [
    "# Create Deck_survive_ratio\n",
    "\n",
    "Surviving probability by Deck, before imputing Deck and add noise"
   ]
  },
  {
   "cell_type": "code",
   "execution_count": 25,
   "id": "13d7d389",
   "metadata": {
    "execution": {
     "iopub.execute_input": "2023-03-07T00:28:36.094139Z",
     "iopub.status.busy": "2023-03-07T00:28:36.092727Z",
     "iopub.status.idle": "2023-03-07T00:28:36.109952Z",
     "shell.execute_reply": "2023-03-07T00:28:36.108446Z"
    },
    "papermill": {
     "duration": 0.043693,
     "end_time": "2023-03-07T00:28:36.112785",
     "exception": false,
     "start_time": "2023-03-07T00:28:36.069092",
     "status": "completed"
    },
    "tags": []
   },
   "outputs": [],
   "source": [
    "# Extract Deck letter from Cabin column\n",
    "full_df['Deck'] = full_df.Cabin.str[0]\n",
    "\n",
    "# Total Survived by available Deck data\n",
    "deck_total_survived = full_df.groupby('Deck').Survived.sum()\n",
    "\n",
    "# Total passengers by available Deck data\n",
    "deck_people = full_df.groupby('Deck').Deck.count()\n",
    "\n",
    "# Deck and surviving chance pairs \n",
    "deck_survived_dict = (deck_total_survived / deck_people).round(2).to_dict()\n",
    "\n",
    "# Total Survived where Deck data is missing\n",
    "deck_nan_survived = full_df.loc[full_df.Deck.isna(), 'Survived']\n",
    "\n",
    "# Add to dictionary an additional entry for missing Deck surviving chance\n",
    "deck_survived_dict['M'] = (deck_nan_survived.value_counts() / deck_nan_survived.count()).round(2)[1]\n",
    "\n",
    "# Create Deck_survive_ratio\n",
    "df['Deck_survive_ratio'] = df.Deck.fillna('M')\n",
    "\n",
    "df.Deck_survive_ratio = df.Deck_survive_ratio.map(deck_survived_dict).astype('float')"
   ]
  },
  {
   "cell_type": "markdown",
   "id": "727b9b83",
   "metadata": {
    "papermill": {
     "duration": 0.021401,
     "end_time": "2023-03-07T00:28:36.155926",
     "exception": false,
     "start_time": "2023-03-07T00:28:36.134525",
     "status": "completed"
    },
    "tags": []
   },
   "source": [
    "# Analyze and impute missing prices\n",
    "\n",
    "We impute prices first as there are less missing values in Price than in Deck and we use them both for imputation"
   ]
  },
  {
   "cell_type": "code",
   "execution_count": 26,
   "id": "e4bb10b4",
   "metadata": {
    "execution": {
     "iopub.execute_input": "2023-03-07T00:28:36.209671Z",
     "iopub.status.busy": "2023-03-07T00:28:36.208455Z",
     "iopub.status.idle": "2023-03-07T00:28:36.270750Z",
     "shell.execute_reply": "2023-03-07T00:28:36.269590Z"
    },
    "papermill": {
     "duration": 0.094942,
     "end_time": "2023-03-07T00:28:36.273360",
     "exception": false,
     "start_time": "2023-03-07T00:28:36.178418",
     "status": "completed"
    },
    "tags": []
   },
   "outputs": [
    {
     "data": {
      "text/html": [
       "<div>\n",
       "<style scoped>\n",
       "    .dataframe tbody tr th:only-of-type {\n",
       "        vertical-align: middle;\n",
       "    }\n",
       "\n",
       "    .dataframe tbody tr th {\n",
       "        vertical-align: top;\n",
       "    }\n",
       "\n",
       "    .dataframe thead th {\n",
       "        text-align: right;\n",
       "    }\n",
       "</style>\n",
       "<table border=\"1\" class=\"dataframe\">\n",
       "  <thead>\n",
       "    <tr style=\"text-align: right;\">\n",
       "      <th></th>\n",
       "      <th></th>\n",
       "      <th>count</th>\n",
       "      <th>mean</th>\n",
       "      <th>std</th>\n",
       "      <th>min</th>\n",
       "      <th>25%</th>\n",
       "      <th>50%</th>\n",
       "      <th>75%</th>\n",
       "      <th>max</th>\n",
       "    </tr>\n",
       "    <tr>\n",
       "      <th>Pclass</th>\n",
       "      <th>Deck</th>\n",
       "      <th></th>\n",
       "      <th></th>\n",
       "      <th></th>\n",
       "      <th></th>\n",
       "      <th></th>\n",
       "      <th></th>\n",
       "      <th></th>\n",
       "      <th></th>\n",
       "    </tr>\n",
       "  </thead>\n",
       "  <tbody>\n",
       "    <tr>\n",
       "      <th rowspan=\"6\" valign=\"top\">1</th>\n",
       "      <th>A</th>\n",
       "      <td>21.0</td>\n",
       "      <td>32.823810</td>\n",
       "      <td>7.056125</td>\n",
       "      <td>26.0</td>\n",
       "      <td>27.700</td>\n",
       "      <td>30.50</td>\n",
       "      <td>35.500</td>\n",
       "      <td>50.5</td>\n",
       "    </tr>\n",
       "    <tr>\n",
       "      <th>B</th>\n",
       "      <td>65.0</td>\n",
       "      <td>42.983077</td>\n",
       "      <td>25.865606</td>\n",
       "      <td>5.0</td>\n",
       "      <td>29.000</td>\n",
       "      <td>37.50</td>\n",
       "      <td>45.500</td>\n",
       "      <td>128.1</td>\n",
       "    </tr>\n",
       "    <tr>\n",
       "      <th>C</th>\n",
       "      <td>105.0</td>\n",
       "      <td>35.783810</td>\n",
       "      <td>9.732540</td>\n",
       "      <td>25.3</td>\n",
       "      <td>27.700</td>\n",
       "      <td>33.90</td>\n",
       "      <td>42.300</td>\n",
       "      <td>68.4</td>\n",
       "    </tr>\n",
       "    <tr>\n",
       "      <th>D</th>\n",
       "      <td>42.0</td>\n",
       "      <td>31.776190</td>\n",
       "      <td>9.698650</td>\n",
       "      <td>19.7</td>\n",
       "      <td>26.000</td>\n",
       "      <td>27.15</td>\n",
       "      <td>37.750</td>\n",
       "      <td>66.8</td>\n",
       "    </tr>\n",
       "    <tr>\n",
       "      <th>E</th>\n",
       "      <td>35.0</td>\n",
       "      <td>26.177143</td>\n",
       "      <td>5.033715</td>\n",
       "      <td>8.8</td>\n",
       "      <td>26.450</td>\n",
       "      <td>26.90</td>\n",
       "      <td>27.700</td>\n",
       "      <td>38.5</td>\n",
       "    </tr>\n",
       "    <tr>\n",
       "      <th>T</th>\n",
       "      <td>1.0</td>\n",
       "      <td>35.500000</td>\n",
       "      <td>NaN</td>\n",
       "      <td>35.5</td>\n",
       "      <td>35.500</td>\n",
       "      <td>35.50</td>\n",
       "      <td>35.500</td>\n",
       "      <td>35.5</td>\n",
       "    </tr>\n",
       "    <tr>\n",
       "      <th rowspan=\"3\" valign=\"top\">2</th>\n",
       "      <th>D</th>\n",
       "      <td>6.0</td>\n",
       "      <td>13.600000</td>\n",
       "      <td>0.812404</td>\n",
       "      <td>12.9</td>\n",
       "      <td>13.000</td>\n",
       "      <td>13.40</td>\n",
       "      <td>13.875</td>\n",
       "      <td>15.0</td>\n",
       "    </tr>\n",
       "    <tr>\n",
       "      <th>E</th>\n",
       "      <td>6.0</td>\n",
       "      <td>9.783333</td>\n",
       "      <td>3.648790</td>\n",
       "      <td>5.2</td>\n",
       "      <td>6.525</td>\n",
       "      <td>11.45</td>\n",
       "      <td>12.400</td>\n",
       "      <td>13.0</td>\n",
       "    </tr>\n",
       "    <tr>\n",
       "      <th>F</th>\n",
       "      <td>16.0</td>\n",
       "      <td>10.925000</td>\n",
       "      <td>1.756701</td>\n",
       "      <td>8.7</td>\n",
       "      <td>9.800</td>\n",
       "      <td>10.50</td>\n",
       "      <td>13.000</td>\n",
       "      <td>13.0</td>\n",
       "    </tr>\n",
       "    <tr>\n",
       "      <th rowspan=\"3\" valign=\"top\">3</th>\n",
       "      <th>E</th>\n",
       "      <td>3.0</td>\n",
       "      <td>6.800000</td>\n",
       "      <td>1.039230</td>\n",
       "      <td>6.2</td>\n",
       "      <td>6.200</td>\n",
       "      <td>6.20</td>\n",
       "      <td>7.100</td>\n",
       "      <td>8.0</td>\n",
       "    </tr>\n",
       "    <tr>\n",
       "      <th>F</th>\n",
       "      <td>11.0</td>\n",
       "      <td>7.518182</td>\n",
       "      <td>0.177866</td>\n",
       "      <td>7.2</td>\n",
       "      <td>7.500</td>\n",
       "      <td>7.60</td>\n",
       "      <td>7.600</td>\n",
       "      <td>7.8</td>\n",
       "    </tr>\n",
       "    <tr>\n",
       "      <th>G</th>\n",
       "      <td>5.0</td>\n",
       "      <td>5.440000</td>\n",
       "      <td>0.219089</td>\n",
       "      <td>5.2</td>\n",
       "      <td>5.200</td>\n",
       "      <td>5.60</td>\n",
       "      <td>5.600</td>\n",
       "      <td>5.6</td>\n",
       "    </tr>\n",
       "  </tbody>\n",
       "</table>\n",
       "</div>"
      ],
      "text/plain": [
       "             count       mean        std   min     25%    50%     75%    max\n",
       "Pclass Deck                                                                 \n",
       "1      A      21.0  32.823810   7.056125  26.0  27.700  30.50  35.500   50.5\n",
       "       B      65.0  42.983077  25.865606   5.0  29.000  37.50  45.500  128.1\n",
       "       C     105.0  35.783810   9.732540  25.3  27.700  33.90  42.300   68.4\n",
       "       D      42.0  31.776190   9.698650  19.7  26.000  27.15  37.750   66.8\n",
       "       E      35.0  26.177143   5.033715   8.8  26.450  26.90  27.700   38.5\n",
       "       T       1.0  35.500000        NaN  35.5  35.500  35.50  35.500   35.5\n",
       "2      D       6.0  13.600000   0.812404  12.9  13.000  13.40  13.875   15.0\n",
       "       E       6.0   9.783333   3.648790   5.2   6.525  11.45  12.400   13.0\n",
       "       F      16.0  10.925000   1.756701   8.7   9.800  10.50  13.000   13.0\n",
       "3      E       3.0   6.800000   1.039230   6.2   6.200   6.20   7.100    8.0\n",
       "       F      11.0   7.518182   0.177866   7.2   7.500   7.60   7.600    7.8\n",
       "       G       5.0   5.440000   0.219089   5.2   5.200   5.60   5.600    5.6"
      ]
     },
     "execution_count": 26,
     "metadata": {},
     "output_type": "execute_result"
    }
   ],
   "source": [
    "# Analyze Price by Deck and Pclass\n",
    "df.groupby(['Pclass', 'Deck']).Price.describe()"
   ]
  },
  {
   "cell_type": "markdown",
   "id": "4e3c364a",
   "metadata": {
    "papermill": {
     "duration": 0.022166,
     "end_time": "2023-03-07T00:28:36.317436",
     "exception": false,
     "start_time": "2023-03-07T00:28:36.295270",
     "status": "completed"
    },
    "tags": []
   },
   "source": [
    "Very large standard deviation in Pclass 1, Deck B comparing to others, we should analyze this."
   ]
  },
  {
   "cell_type": "code",
   "execution_count": 27,
   "id": "96b7fd05",
   "metadata": {
    "execution": {
     "iopub.execute_input": "2023-03-07T00:28:36.363605Z",
     "iopub.status.busy": "2023-03-07T00:28:36.362667Z",
     "iopub.status.idle": "2023-03-07T00:28:36.369858Z",
     "shell.execute_reply": "2023-03-07T00:28:36.368824Z"
    },
    "papermill": {
     "duration": 0.032938,
     "end_time": "2023-03-07T00:28:36.372344",
     "exception": false,
     "start_time": "2023-03-07T00:28:36.339406",
     "status": "completed"
    },
    "tags": []
   },
   "outputs": [],
   "source": [
    "# Cabin T was on the upper deck (google helps), \n",
    "# so we will replace it with A deck as it has just a single value\n",
    "df.loc[df.Deck.eq('T'), 'Deck'] = 'A'"
   ]
  },
  {
   "cell_type": "code",
   "execution_count": 28,
   "id": "c98f980b",
   "metadata": {
    "execution": {
     "iopub.execute_input": "2023-03-07T00:28:36.418107Z",
     "iopub.status.busy": "2023-03-07T00:28:36.417710Z",
     "iopub.status.idle": "2023-03-07T00:28:36.443216Z",
     "shell.execute_reply": "2023-03-07T00:28:36.442093Z"
    },
    "papermill": {
     "duration": 0.055639,
     "end_time": "2023-03-07T00:28:36.450120",
     "exception": false,
     "start_time": "2023-03-07T00:28:36.394481",
     "status": "completed"
    },
    "tags": []
   },
   "outputs": [
    {
     "data": {
      "text/html": [
       "<div>\n",
       "<style scoped>\n",
       "    .dataframe tbody tr th:only-of-type {\n",
       "        vertical-align: middle;\n",
       "    }\n",
       "\n",
       "    .dataframe tbody tr th {\n",
       "        vertical-align: top;\n",
       "    }\n",
       "\n",
       "    .dataframe thead th {\n",
       "        text-align: right;\n",
       "    }\n",
       "</style>\n",
       "<table border=\"1\" class=\"dataframe\">\n",
       "  <thead>\n",
       "    <tr style=\"text-align: right;\">\n",
       "      <th></th>\n",
       "      <th>Pclass</th>\n",
       "      <th>Name</th>\n",
       "      <th>Sex</th>\n",
       "      <th>Age</th>\n",
       "      <th>SibSp</th>\n",
       "      <th>Parch</th>\n",
       "      <th>Ticket</th>\n",
       "      <th>Fare</th>\n",
       "      <th>Cabin</th>\n",
       "      <th>Embarked</th>\n",
       "      <th>Lastname</th>\n",
       "      <th>Title</th>\n",
       "      <th>Status</th>\n",
       "      <th>Ticket_series</th>\n",
       "      <th>Ticket_nr</th>\n",
       "      <th>Passengers_ticket</th>\n",
       "      <th>Price</th>\n",
       "      <th>Deck</th>\n",
       "      <th>Deck_survive_ratio</th>\n",
       "    </tr>\n",
       "  </thead>\n",
       "  <tbody>\n",
       "    <tr>\n",
       "      <th>872</th>\n",
       "      <td>1</td>\n",
       "      <td>Carlsson, Mr. Frans Olof</td>\n",
       "      <td>male</td>\n",
       "      <td>33.0</td>\n",
       "      <td>0</td>\n",
       "      <td>0</td>\n",
       "      <td>695</td>\n",
       "      <td>5.0</td>\n",
       "      <td>B51 B53 B55</td>\n",
       "      <td>S</td>\n",
       "      <td>Carlsson</td>\n",
       "      <td>Mr</td>\n",
       "      <td>Man</td>\n",
       "      <td>0</td>\n",
       "      <td>695</td>\n",
       "      <td>1</td>\n",
       "      <td>5.0</td>\n",
       "      <td>B</td>\n",
       "      <td>0.74</td>\n",
       "    </tr>\n",
       "    <tr>\n",
       "      <th>690</th>\n",
       "      <td>1</td>\n",
       "      <td>Dick, Mr. Albert Adrian</td>\n",
       "      <td>male</td>\n",
       "      <td>31.0</td>\n",
       "      <td>1</td>\n",
       "      <td>0</td>\n",
       "      <td>17474</td>\n",
       "      <td>57.0</td>\n",
       "      <td>B20</td>\n",
       "      <td>S</td>\n",
       "      <td>Dick</td>\n",
       "      <td>Mr</td>\n",
       "      <td>Man</td>\n",
       "      <td>0</td>\n",
       "      <td>17474</td>\n",
       "      <td>3</td>\n",
       "      <td>19.0</td>\n",
       "      <td>B</td>\n",
       "      <td>0.74</td>\n",
       "    </tr>\n",
       "    <tr>\n",
       "      <th>781</th>\n",
       "      <td>1</td>\n",
       "      <td>Dick, Mrs. Albert Adrian (Vera Gillespie)</td>\n",
       "      <td>female</td>\n",
       "      <td>17.0</td>\n",
       "      <td>1</td>\n",
       "      <td>0</td>\n",
       "      <td>17474</td>\n",
       "      <td>57.0</td>\n",
       "      <td>B20</td>\n",
       "      <td>S</td>\n",
       "      <td>Dick</td>\n",
       "      <td>Miss</td>\n",
       "      <td>Child</td>\n",
       "      <td>0</td>\n",
       "      <td>17474</td>\n",
       "      <td>3</td>\n",
       "      <td>19.0</td>\n",
       "      <td>B</td>\n",
       "      <td>0.74</td>\n",
       "    </tr>\n",
       "    <tr>\n",
       "      <th>1199</th>\n",
       "      <td>1</td>\n",
       "      <td>Hays, Mr. Charles Melville</td>\n",
       "      <td>male</td>\n",
       "      <td>55.0</td>\n",
       "      <td>1</td>\n",
       "      <td>1</td>\n",
       "      <td>12749</td>\n",
       "      <td>93.5</td>\n",
       "      <td>B69</td>\n",
       "      <td>S</td>\n",
       "      <td>Hays</td>\n",
       "      <td>Mr</td>\n",
       "      <td>Man</td>\n",
       "      <td>0</td>\n",
       "      <td>12749</td>\n",
       "      <td>4</td>\n",
       "      <td>23.4</td>\n",
       "      <td>B</td>\n",
       "      <td>0.74</td>\n",
       "    </tr>\n",
       "    <tr>\n",
       "      <th>1281</th>\n",
       "      <td>1</td>\n",
       "      <td>Payne, Mr. Vivian Ponsonby</td>\n",
       "      <td>male</td>\n",
       "      <td>23.0</td>\n",
       "      <td>0</td>\n",
       "      <td>0</td>\n",
       "      <td>12749</td>\n",
       "      <td>93.5</td>\n",
       "      <td>B24</td>\n",
       "      <td>S</td>\n",
       "      <td>Payne</td>\n",
       "      <td>Mr</td>\n",
       "      <td>Man</td>\n",
       "      <td>0</td>\n",
       "      <td>12749</td>\n",
       "      <td>4</td>\n",
       "      <td>23.4</td>\n",
       "      <td>B</td>\n",
       "      <td>0.74</td>\n",
       "    </tr>\n",
       "  </tbody>\n",
       "</table>\n",
       "</div>"
      ],
      "text/plain": [
       "      Pclass                                       Name     Sex   Age  SibSp  \\\n",
       "872        1                   Carlsson, Mr. Frans Olof    male  33.0      0   \n",
       "690        1                    Dick, Mr. Albert Adrian    male  31.0      1   \n",
       "781        1  Dick, Mrs. Albert Adrian (Vera Gillespie)  female  17.0      1   \n",
       "1199       1                 Hays, Mr. Charles Melville    male  55.0      1   \n",
       "1281       1                 Payne, Mr. Vivian Ponsonby    male  23.0      0   \n",
       "\n",
       "      Parch Ticket  Fare        Cabin Embarked  Lastname Title Status  \\\n",
       "872       0    695   5.0  B51 B53 B55        S  Carlsson    Mr    Man   \n",
       "690       0  17474  57.0          B20        S      Dick    Mr    Man   \n",
       "781       0  17474  57.0          B20        S      Dick  Miss  Child   \n",
       "1199      1  12749  93.5          B69        S      Hays    Mr    Man   \n",
       "1281      0  12749  93.5          B24        S     Payne    Mr    Man   \n",
       "\n",
       "     Ticket_series Ticket_nr  Passengers_ticket  Price Deck  \\\n",
       "872              0       695                  1    5.0    B   \n",
       "690              0     17474                  3   19.0    B   \n",
       "781              0     17474                  3   19.0    B   \n",
       "1199             0     12749                  4   23.4    B   \n",
       "1281             0     12749                  4   23.4    B   \n",
       "\n",
       "      Deck_survive_ratio  \n",
       "872                 0.74  \n",
       "690                 0.74  \n",
       "781                 0.74  \n",
       "1199                0.74  \n",
       "1281                0.74  "
      ]
     },
     "execution_count": 28,
     "metadata": {},
     "output_type": "execute_result"
    }
   ],
   "source": [
    "# Check the cheapest prices for Deck B\n",
    "df[df.Deck.eq('B')].sort_values('Price').head()"
   ]
  },
  {
   "cell_type": "code",
   "execution_count": 29,
   "id": "c7e06d89",
   "metadata": {
    "execution": {
     "iopub.execute_input": "2023-03-07T00:28:36.500326Z",
     "iopub.status.busy": "2023-03-07T00:28:36.499103Z",
     "iopub.status.idle": "2023-03-07T00:28:36.506289Z",
     "shell.execute_reply": "2023-03-07T00:28:36.505316Z"
    },
    "papermill": {
     "duration": 0.035193,
     "end_time": "2023-03-07T00:28:36.508854",
     "exception": false,
     "start_time": "2023-03-07T00:28:36.473661",
     "status": "completed"
    },
    "tags": []
   },
   "outputs": [],
   "source": [
    "# Maybe Mr Carlsson paid just 5 pounds for that 1st class ticket, \n",
    "# but this value is an outlier that we will replace with the next min\n",
    "df.loc[(df.Deck.eq('B') & df.Price.lt(19)), 'Price'] = 19"
   ]
  },
  {
   "cell_type": "code",
   "execution_count": 30,
   "id": "04fc5b5d",
   "metadata": {
    "execution": {
     "iopub.execute_input": "2023-03-07T00:28:36.556094Z",
     "iopub.status.busy": "2023-03-07T00:28:36.555281Z",
     "iopub.status.idle": "2023-03-07T00:28:36.585658Z",
     "shell.execute_reply": "2023-03-07T00:28:36.584312Z"
    },
    "papermill": {
     "duration": 0.056896,
     "end_time": "2023-03-07T00:28:36.588426",
     "exception": false,
     "start_time": "2023-03-07T00:28:36.531530",
     "status": "completed"
    },
    "tags": []
   },
   "outputs": [
    {
     "data": {
      "text/html": [
       "<div>\n",
       "<style scoped>\n",
       "    .dataframe tbody tr th:only-of-type {\n",
       "        vertical-align: middle;\n",
       "    }\n",
       "\n",
       "    .dataframe tbody tr th {\n",
       "        vertical-align: top;\n",
       "    }\n",
       "\n",
       "    .dataframe thead th {\n",
       "        text-align: right;\n",
       "    }\n",
       "</style>\n",
       "<table border=\"1\" class=\"dataframe\">\n",
       "  <thead>\n",
       "    <tr style=\"text-align: right;\">\n",
       "      <th></th>\n",
       "      <th>Pclass</th>\n",
       "      <th>Name</th>\n",
       "      <th>Sex</th>\n",
       "      <th>Age</th>\n",
       "      <th>SibSp</th>\n",
       "      <th>Parch</th>\n",
       "      <th>Ticket</th>\n",
       "      <th>Fare</th>\n",
       "      <th>Cabin</th>\n",
       "      <th>Embarked</th>\n",
       "      <th>Lastname</th>\n",
       "      <th>Title</th>\n",
       "      <th>Status</th>\n",
       "      <th>Ticket_series</th>\n",
       "      <th>Ticket_nr</th>\n",
       "      <th>Passengers_ticket</th>\n",
       "      <th>Price</th>\n",
       "      <th>Deck</th>\n",
       "      <th>Deck_survive_ratio</th>\n",
       "    </tr>\n",
       "  </thead>\n",
       "  <tbody>\n",
       "    <tr>\n",
       "      <th>1234</th>\n",
       "      <td>1</td>\n",
       "      <td>Cardeza, Mrs. James Warburton Martinez (Charlo...</td>\n",
       "      <td>female</td>\n",
       "      <td>58.0</td>\n",
       "      <td>0</td>\n",
       "      <td>1</td>\n",
       "      <td>PC 17755</td>\n",
       "      <td>512.3292</td>\n",
       "      <td>B51 B53 B55</td>\n",
       "      <td>C</td>\n",
       "      <td>Cardeza</td>\n",
       "      <td>Mrs</td>\n",
       "      <td>Mother</td>\n",
       "      <td>PC</td>\n",
       "      <td>17755</td>\n",
       "      <td>4</td>\n",
       "      <td>128.1</td>\n",
       "      <td>B</td>\n",
       "      <td>0.74</td>\n",
       "    </tr>\n",
       "    <tr>\n",
       "      <th>258</th>\n",
       "      <td>1</td>\n",
       "      <td>Ward, Miss. Anna</td>\n",
       "      <td>female</td>\n",
       "      <td>35.0</td>\n",
       "      <td>0</td>\n",
       "      <td>0</td>\n",
       "      <td>PC 17755</td>\n",
       "      <td>512.3292</td>\n",
       "      <td>NaN</td>\n",
       "      <td>C</td>\n",
       "      <td>Ward</td>\n",
       "      <td>Miss</td>\n",
       "      <td>Woman</td>\n",
       "      <td>PC</td>\n",
       "      <td>17755</td>\n",
       "      <td>4</td>\n",
       "      <td>128.1</td>\n",
       "      <td>B</td>\n",
       "      <td>0.74</td>\n",
       "    </tr>\n",
       "    <tr>\n",
       "      <th>737</th>\n",
       "      <td>1</td>\n",
       "      <td>Lesurer, Mr. Gustave J</td>\n",
       "      <td>male</td>\n",
       "      <td>35.0</td>\n",
       "      <td>0</td>\n",
       "      <td>0</td>\n",
       "      <td>PC 17755</td>\n",
       "      <td>512.3292</td>\n",
       "      <td>B101</td>\n",
       "      <td>C</td>\n",
       "      <td>Lesurer</td>\n",
       "      <td>Mr</td>\n",
       "      <td>Man</td>\n",
       "      <td>PC</td>\n",
       "      <td>17755</td>\n",
       "      <td>4</td>\n",
       "      <td>128.1</td>\n",
       "      <td>B</td>\n",
       "      <td>0.74</td>\n",
       "    </tr>\n",
       "    <tr>\n",
       "      <th>679</th>\n",
       "      <td>1</td>\n",
       "      <td>Cardeza, Mr. Thomas Drake Martinez</td>\n",
       "      <td>male</td>\n",
       "      <td>36.0</td>\n",
       "      <td>0</td>\n",
       "      <td>1</td>\n",
       "      <td>PC 17755</td>\n",
       "      <td>512.3292</td>\n",
       "      <td>B51 B53 B55</td>\n",
       "      <td>C</td>\n",
       "      <td>Cardeza</td>\n",
       "      <td>Mr</td>\n",
       "      <td>Man</td>\n",
       "      <td>PC</td>\n",
       "      <td>17755</td>\n",
       "      <td>4</td>\n",
       "      <td>128.1</td>\n",
       "      <td>B</td>\n",
       "      <td>0.74</td>\n",
       "    </tr>\n",
       "    <tr>\n",
       "      <th>118</th>\n",
       "      <td>1</td>\n",
       "      <td>Baxter, Mr. Quigg Edmond</td>\n",
       "      <td>male</td>\n",
       "      <td>24.0</td>\n",
       "      <td>0</td>\n",
       "      <td>1</td>\n",
       "      <td>PC 17558</td>\n",
       "      <td>247.5208</td>\n",
       "      <td>B58 B60</td>\n",
       "      <td>C</td>\n",
       "      <td>Baxter</td>\n",
       "      <td>Mr</td>\n",
       "      <td>Man</td>\n",
       "      <td>PC</td>\n",
       "      <td>17558</td>\n",
       "      <td>3</td>\n",
       "      <td>82.5</td>\n",
       "      <td>B</td>\n",
       "      <td>0.74</td>\n",
       "    </tr>\n",
       "    <tr>\n",
       "      <th>1075</th>\n",
       "      <td>1</td>\n",
       "      <td>Douglas, Mrs. Frederick Charles (Mary Helene B...</td>\n",
       "      <td>female</td>\n",
       "      <td>27.0</td>\n",
       "      <td>1</td>\n",
       "      <td>1</td>\n",
       "      <td>PC 17558</td>\n",
       "      <td>247.5208</td>\n",
       "      <td>B58 B60</td>\n",
       "      <td>C</td>\n",
       "      <td>Douglas</td>\n",
       "      <td>Mrs</td>\n",
       "      <td>Mother</td>\n",
       "      <td>PC</td>\n",
       "      <td>17558</td>\n",
       "      <td>3</td>\n",
       "      <td>82.5</td>\n",
       "      <td>B</td>\n",
       "      <td>0.74</td>\n",
       "    </tr>\n",
       "    <tr>\n",
       "      <th>299</th>\n",
       "      <td>1</td>\n",
       "      <td>Baxter, Mrs. James (Helene DeLaudeniere Chaput)</td>\n",
       "      <td>female</td>\n",
       "      <td>50.0</td>\n",
       "      <td>0</td>\n",
       "      <td>1</td>\n",
       "      <td>PC 17558</td>\n",
       "      <td>247.5208</td>\n",
       "      <td>B58 B60</td>\n",
       "      <td>C</td>\n",
       "      <td>Baxter</td>\n",
       "      <td>Mrs</td>\n",
       "      <td>Mother</td>\n",
       "      <td>PC</td>\n",
       "      <td>17558</td>\n",
       "      <td>3</td>\n",
       "      <td>82.5</td>\n",
       "      <td>B</td>\n",
       "      <td>0.74</td>\n",
       "    </tr>\n",
       "    <tr>\n",
       "      <th>730</th>\n",
       "      <td>1</td>\n",
       "      <td>Allen, Miss. Elisabeth Walton</td>\n",
       "      <td>female</td>\n",
       "      <td>29.0</td>\n",
       "      <td>0</td>\n",
       "      <td>0</td>\n",
       "      <td>24160</td>\n",
       "      <td>211.3375</td>\n",
       "      <td>B5</td>\n",
       "      <td>S</td>\n",
       "      <td>Allen</td>\n",
       "      <td>Miss</td>\n",
       "      <td>Woman</td>\n",
       "      <td>0</td>\n",
       "      <td>24160</td>\n",
       "      <td>4</td>\n",
       "      <td>52.8</td>\n",
       "      <td>B</td>\n",
       "      <td>0.74</td>\n",
       "    </tr>\n",
       "    <tr>\n",
       "      <th>1215</th>\n",
       "      <td>1</td>\n",
       "      <td>Kreuchen, Miss. Emilie</td>\n",
       "      <td>female</td>\n",
       "      <td>39.0</td>\n",
       "      <td>0</td>\n",
       "      <td>0</td>\n",
       "      <td>24160</td>\n",
       "      <td>211.3375</td>\n",
       "      <td>NaN</td>\n",
       "      <td>S</td>\n",
       "      <td>Kreuchen</td>\n",
       "      <td>Miss</td>\n",
       "      <td>Woman</td>\n",
       "      <td>0</td>\n",
       "      <td>24160</td>\n",
       "      <td>4</td>\n",
       "      <td>52.8</td>\n",
       "      <td>B</td>\n",
       "      <td>0.74</td>\n",
       "    </tr>\n",
       "    <tr>\n",
       "      <th>779</th>\n",
       "      <td>1</td>\n",
       "      <td>Robert, Mrs. Edward Scott (Elisabeth Walton Mc...</td>\n",
       "      <td>female</td>\n",
       "      <td>43.0</td>\n",
       "      <td>0</td>\n",
       "      <td>1</td>\n",
       "      <td>24160</td>\n",
       "      <td>211.3375</td>\n",
       "      <td>B3</td>\n",
       "      <td>S</td>\n",
       "      <td>Robert</td>\n",
       "      <td>Mrs</td>\n",
       "      <td>Mother</td>\n",
       "      <td>0</td>\n",
       "      <td>24160</td>\n",
       "      <td>4</td>\n",
       "      <td>52.8</td>\n",
       "      <td>B</td>\n",
       "      <td>0.74</td>\n",
       "    </tr>\n",
       "  </tbody>\n",
       "</table>\n",
       "</div>"
      ],
      "text/plain": [
       "      Pclass                                               Name     Sex   Age  \\\n",
       "1234       1  Cardeza, Mrs. James Warburton Martinez (Charlo...  female  58.0   \n",
       "258        1                                   Ward, Miss. Anna  female  35.0   \n",
       "737        1                             Lesurer, Mr. Gustave J    male  35.0   \n",
       "679        1                 Cardeza, Mr. Thomas Drake Martinez    male  36.0   \n",
       "118        1                           Baxter, Mr. Quigg Edmond    male  24.0   \n",
       "1075       1  Douglas, Mrs. Frederick Charles (Mary Helene B...  female  27.0   \n",
       "299        1    Baxter, Mrs. James (Helene DeLaudeniere Chaput)  female  50.0   \n",
       "730        1                      Allen, Miss. Elisabeth Walton  female  29.0   \n",
       "1215       1                             Kreuchen, Miss. Emilie  female  39.0   \n",
       "779        1  Robert, Mrs. Edward Scott (Elisabeth Walton Mc...  female  43.0   \n",
       "\n",
       "      SibSp  Parch    Ticket      Fare        Cabin Embarked  Lastname Title  \\\n",
       "1234      0      1  PC 17755  512.3292  B51 B53 B55        C   Cardeza   Mrs   \n",
       "258       0      0  PC 17755  512.3292          NaN        C      Ward  Miss   \n",
       "737       0      0  PC 17755  512.3292         B101        C   Lesurer    Mr   \n",
       "679       0      1  PC 17755  512.3292  B51 B53 B55        C   Cardeza    Mr   \n",
       "118       0      1  PC 17558  247.5208      B58 B60        C    Baxter    Mr   \n",
       "1075      1      1  PC 17558  247.5208      B58 B60        C   Douglas   Mrs   \n",
       "299       0      1  PC 17558  247.5208      B58 B60        C    Baxter   Mrs   \n",
       "730       0      0     24160  211.3375           B5        S     Allen  Miss   \n",
       "1215      0      0     24160  211.3375          NaN        S  Kreuchen  Miss   \n",
       "779       0      1     24160  211.3375           B3        S    Robert   Mrs   \n",
       "\n",
       "      Status Ticket_series Ticket_nr  Passengers_ticket  Price Deck  \\\n",
       "1234  Mother            PC     17755                  4  128.1    B   \n",
       "258    Woman            PC     17755                  4  128.1    B   \n",
       "737      Man            PC     17755                  4  128.1    B   \n",
       "679      Man            PC     17755                  4  128.1    B   \n",
       "118      Man            PC     17558                  3   82.5    B   \n",
       "1075  Mother            PC     17558                  3   82.5    B   \n",
       "299   Mother            PC     17558                  3   82.5    B   \n",
       "730    Woman             0     24160                  4   52.8    B   \n",
       "1215   Woman             0     24160                  4   52.8    B   \n",
       "779   Mother             0     24160                  4   52.8    B   \n",
       "\n",
       "      Deck_survive_ratio  \n",
       "1234                0.74  \n",
       "258                 0.74  \n",
       "737                 0.74  \n",
       "679                 0.74  \n",
       "118                 0.74  \n",
       "1075                0.74  \n",
       "299                 0.74  \n",
       "730                 0.74  \n",
       "1215                0.74  \n",
       "779                 0.74  "
      ]
     },
     "execution_count": 30,
     "metadata": {},
     "output_type": "execute_result"
    }
   ],
   "source": [
    "# Check the most expensive prices for Deck B\n",
    "df[df.Deck.eq('B')].sort_values('Price', ascending=False).head(10)"
   ]
  },
  {
   "cell_type": "code",
   "execution_count": 31,
   "id": "44514099",
   "metadata": {
    "execution": {
     "iopub.execute_input": "2023-03-07T00:28:36.636913Z",
     "iopub.status.busy": "2023-03-07T00:28:36.636451Z",
     "iopub.status.idle": "2023-03-07T00:28:36.643929Z",
     "shell.execute_reply": "2023-03-07T00:28:36.642590Z"
    },
    "papermill": {
     "duration": 0.034057,
     "end_time": "2023-03-07T00:28:36.646397",
     "exception": false,
     "start_time": "2023-03-07T00:28:36.612340",
     "status": "completed"
    },
    "tags": []
   },
   "outputs": [],
   "source": [
    "# Two most expensive tickets are outliers,\n",
    "# we will cap them at the next overall highest Price \n",
    "df.loc[(df.Deck.eq('B') & df.Price.gt(68)), 'Price'] = 68"
   ]
  },
  {
   "cell_type": "code",
   "execution_count": 32,
   "id": "96679639",
   "metadata": {
    "execution": {
     "iopub.execute_input": "2023-03-07T00:28:36.695133Z",
     "iopub.status.busy": "2023-03-07T00:28:36.694061Z",
     "iopub.status.idle": "2023-03-07T00:28:36.736205Z",
     "shell.execute_reply": "2023-03-07T00:28:36.735029Z"
    },
    "papermill": {
     "duration": 0.069938,
     "end_time": "2023-03-07T00:28:36.739188",
     "exception": false,
     "start_time": "2023-03-07T00:28:36.669250",
     "status": "completed"
    },
    "tags": []
   },
   "outputs": [],
   "source": [
    "# Create a data frame of mean prices by Pclass and Deck \n",
    "class_deck_price = pd.DataFrame(df.groupby(['Pclass', 'Deck'])\n",
    "                                .Price.mean().round(2)).reset_index()\n",
    "\n",
    "# Impute missing prices \n",
    "# Where Deck is missing we will use the mean price by Pclass only\n",
    "for index, row in df.loc[df.Price.isna(), \n",
    "                         ['Pclass', 'Deck']].iterrows():\n",
    "    if not pd.isna(row.Deck):\n",
    "        new_price = class_deck_price.loc[\n",
    "            (class_deck_price.Pclass.eq(row.Pclass) \n",
    "            & class_deck_price.Deck.eq(row.Deck)), 'Price'].mean()\n",
    "    else:\n",
    "        new_price = class_deck_price[\n",
    "            class_deck_price.Pclass.eq(row.Pclass)].Price.mean()\n",
    "\n",
    "    df.loc[[index], 'Price'] = new_price"
   ]
  },
  {
   "cell_type": "markdown",
   "id": "2c178b28",
   "metadata": {
    "papermill": {
     "duration": 0.022619,
     "end_time": "2023-03-07T00:28:36.785421",
     "exception": false,
     "start_time": "2023-03-07T00:28:36.762802",
     "status": "completed"
    },
    "tags": []
   },
   "source": [
    "# Analyze and impute missing Deck"
   ]
  },
  {
   "cell_type": "code",
   "execution_count": 33,
   "id": "be7f7159",
   "metadata": {
    "execution": {
     "iopub.execute_input": "2023-03-07T00:28:36.833132Z",
     "iopub.status.busy": "2023-03-07T00:28:36.832727Z",
     "iopub.status.idle": "2023-03-07T00:28:37.522074Z",
     "shell.execute_reply": "2023-03-07T00:28:37.520861Z"
    },
    "papermill": {
     "duration": 0.71666,
     "end_time": "2023-03-07T00:28:37.524856",
     "exception": false,
     "start_time": "2023-03-07T00:28:36.808196",
     "status": "completed"
    },
    "tags": []
   },
   "outputs": [],
   "source": [
    "# Create dictionaries with aproximative price ranges by deck \n",
    "# concluded from previous analisys\n",
    "first_cl = {'A': [25, 30],\n",
    "            'B': [35, 70],\n",
    "            'C': [30, 35],\n",
    "            'D': [19, 25],\n",
    "            'E': [9, 19]}\n",
    "\n",
    "second_cl = {'D': [13, 17],\n",
    "             'E': [5, 9],\n",
    "             'F': [9, 13]}\n",
    "\n",
    "third_cl = {'E': [8, 9],\n",
    "            'F': [9, 21],\n",
    "            'G': [0, 8]}\n",
    "\n",
    "# Create a dictionary pairing Pclass and respective price dictionary\n",
    "class_dict = {1: first_cl,\n",
    "              2: second_cl,\n",
    "              3: third_cl}\n",
    "\n",
    "# Impute missing Deck values \n",
    "for index, row in df.loc[df.Deck.isna(), ['Pclass', 'Price']].iterrows():\n",
    "    for c, d in class_dict.items():\n",
    "        if row.Pclass == c:\n",
    "            for i, j in d.items():\n",
    "                if max(j) > row.Price >= min(j):\n",
    "                    df.loc[[index], 'Deck'] = i\n",
    "\n",
    "# Encode Deck with it's deck level number counting from the bottom\n",
    "deck_level = {'G': 1, 'F': 2, 'E': 3, 'D': 4, 'C': 5, 'B': 6, 'A': 7}\n",
    "\n",
    "df.Deck = df.Deck.replace(deck_level)"
   ]
  },
  {
   "cell_type": "markdown",
   "id": "eb32b2ea",
   "metadata": {
    "papermill": {
     "duration": 0.022749,
     "end_time": "2023-03-07T00:28:37.570708",
     "exception": false,
     "start_time": "2023-03-07T00:28:37.547959",
     "status": "completed"
    },
    "tags": []
   },
   "source": [
    "# Create Escape_density\n",
    "\n",
    "Crowded decks could lead to jams and chaos when everybody wanted to go to the upper deck as the lifeboats were there.\n",
    "This feature will show through which amount of people each deck passenger needed to pass to arrive on top. \n",
    "Basically for each deck we will have a number of people equal to the summ of its own value and all the decks that are upper from it."
   ]
  },
  {
   "cell_type": "code",
   "execution_count": 34,
   "id": "8355f1c3",
   "metadata": {
    "execution": {
     "iopub.execute_input": "2023-03-07T00:28:37.619390Z",
     "iopub.status.busy": "2023-03-07T00:28:37.618959Z",
     "iopub.status.idle": "2023-03-07T00:28:37.629691Z",
     "shell.execute_reply": "2023-03-07T00:28:37.628814Z"
    },
    "papermill": {
     "duration": 0.037092,
     "end_time": "2023-03-07T00:28:37.631869",
     "exception": false,
     "start_time": "2023-03-07T00:28:37.594777",
     "status": "completed"
    },
    "tags": []
   },
   "outputs": [
    {
     "data": {
      "text/plain": [
       "{1: 537, 2: 167, 3: 193, 4: 172, 5: 112, 6: 76, 7: 52}"
      ]
     },
     "execution_count": 34,
     "metadata": {},
     "output_type": "execute_result"
    }
   ],
   "source": [
    "# Analyse how many people were on each deck.\n",
    "# Many values were imputed with aproximation,but at least we will have \n",
    "# an aproximative crowd mass each passenger has to pass going up\n",
    "deck_people = df.Deck.value_counts().sort_index()\n",
    "deck_people_dic = deck_people.to_dict()\n",
    "deck_people_dic"
   ]
  },
  {
   "cell_type": "code",
   "execution_count": 35,
   "id": "9b5e2ead",
   "metadata": {
    "execution": {
     "iopub.execute_input": "2023-03-07T00:28:37.682965Z",
     "iopub.status.busy": "2023-03-07T00:28:37.682544Z",
     "iopub.status.idle": "2023-03-07T00:28:37.690552Z",
     "shell.execute_reply": "2023-03-07T00:28:37.689611Z"
    },
    "papermill": {
     "duration": 0.036486,
     "end_time": "2023-03-07T00:28:37.692651",
     "exception": false,
     "start_time": "2023-03-07T00:28:37.656165",
     "status": "completed"
    },
    "tags": []
   },
   "outputs": [
    {
     "data": {
      "text/plain": [
       "{1: 1309, 2: 772, 3: 605, 4: 412, 5: 240, 6: 128, 7: 52}"
      ]
     },
     "execution_count": 35,
     "metadata": {},
     "output_type": "execute_result"
    }
   ],
   "source": [
    "# Create an escape density dictionary from which we will impute data to our new feature\n",
    "escape_density = {}\n",
    "for i in range(1, 8):\n",
    "    escape_density[i] = sum(deck_people_dic.values())\n",
    "    del deck_people_dic[i]\n",
    "    \n",
    "escape_density"
   ]
  },
  {
   "cell_type": "code",
   "execution_count": 36,
   "id": "3720b67a",
   "metadata": {
    "execution": {
     "iopub.execute_input": "2023-03-07T00:28:37.742736Z",
     "iopub.status.busy": "2023-03-07T00:28:37.742312Z",
     "iopub.status.idle": "2023-03-07T00:28:37.750853Z",
     "shell.execute_reply": "2023-03-07T00:28:37.749544Z"
    },
    "papermill": {
     "duration": 0.036138,
     "end_time": "2023-03-07T00:28:37.753308",
     "exception": false,
     "start_time": "2023-03-07T00:28:37.717170",
     "status": "completed"
    },
    "tags": []
   },
   "outputs": [],
   "source": [
    "# Create Escape_density column\n",
    "df['Escape_density'] = df.Deck.replace(escape_density)"
   ]
  },
  {
   "cell_type": "markdown",
   "id": "5b0b7751",
   "metadata": {
    "papermill": {
     "duration": 0.022625,
     "end_time": "2023-03-07T00:28:37.799489",
     "exception": false,
     "start_time": "2023-03-07T00:28:37.776864",
     "status": "completed"
    },
    "tags": []
   },
   "source": [
    "# Create Family_size\n",
    "\n",
    "It will represent the number of the family members"
   ]
  },
  {
   "cell_type": "code",
   "execution_count": 37,
   "id": "e3def7c4",
   "metadata": {
    "execution": {
     "iopub.execute_input": "2023-03-07T00:28:37.847133Z",
     "iopub.status.busy": "2023-03-07T00:28:37.846711Z",
     "iopub.status.idle": "2023-03-07T00:28:37.853127Z",
     "shell.execute_reply": "2023-03-07T00:28:37.852329Z"
    },
    "papermill": {
     "duration": 0.033043,
     "end_time": "2023-03-07T00:28:37.855393",
     "exception": false,
     "start_time": "2023-03-07T00:28:37.822350",
     "status": "completed"
    },
    "tags": []
   },
   "outputs": [],
   "source": [
    "# We add together the person and his SibSp and Parch\n",
    "df['Family_size'] = 1 + df.SibSp + df.Parch"
   ]
  },
  {
   "cell_type": "markdown",
   "id": "b5d00a5e",
   "metadata": {
    "papermill": {
     "duration": 0.023682,
     "end_time": "2023-03-07T00:28:37.902865",
     "exception": false,
     "start_time": "2023-03-07T00:28:37.879183",
     "status": "completed"
    },
    "tags": []
   },
   "source": [
    "# Create Family_survivers\n",
    "This feature can't be used for modeling as it would lead to target leakage, resulting in a good result on training data, but poor result on the test data.\n",
    "\n",
    "We will analyse it later to separate family groups that could have higher surviving chance."
   ]
  },
  {
   "cell_type": "code",
   "execution_count": 38,
   "id": "1f5c63a5",
   "metadata": {
    "execution": {
     "iopub.execute_input": "2023-03-07T00:28:37.951416Z",
     "iopub.status.busy": "2023-03-07T00:28:37.950928Z",
     "iopub.status.idle": "2023-03-07T00:28:38.040742Z",
     "shell.execute_reply": "2023-03-07T00:28:38.039283Z"
    },
    "papermill": {
     "duration": 0.117621,
     "end_time": "2023-03-07T00:28:38.043676",
     "exception": false,
     "start_time": "2023-03-07T00:28:37.926055",
     "status": "completed"
    },
    "tags": []
   },
   "outputs": [],
   "source": [
    "# Create full data frame for analysis\n",
    "X = df[:X_max_index].copy()\n",
    "test_df = df[X_max_index:].copy()\n",
    "full_df = pd.concat([X, y], axis=1).copy()\n",
    "\n",
    "# Check for families that has survivers and create a dictionary with mean value of their family survivability\n",
    "family_survivers = full_df[['Lastname', 'Survived']].groupby('Lastname').mean().round(2).reset_index()\n",
    "family_survivers_dict = dict(zip(family_survivers.Lastname, family_survivers.Survived))\n",
    "\n",
    "# Reduce the dictionary to the list of families that are both in train and test data\n",
    "common_survivers = {}\n",
    "for lastname, survived in family_survivers_dict.items():\n",
    "    if lastname in list(test_df['Lastname'].unique()):\n",
    "        common_survivers[lastname] = survived\n",
    "\n",
    "# Create Family_survivers feature\n",
    "df['Family_survivers'] = df.Lastname.map(common_survivers)\n",
    "\n",
    "# For the families that are not present in both train and test we will impute the overall mean value\n",
    "df.Family_survivers = df.Family_survivers.fillna(df.Family_survivers.mean())"
   ]
  },
  {
   "cell_type": "markdown",
   "id": "274163f5",
   "metadata": {
    "papermill": {
     "duration": 0.023548,
     "end_time": "2023-03-07T00:28:38.090459",
     "exception": false,
     "start_time": "2023-03-07T00:28:38.066911",
     "status": "completed"
    },
    "tags": []
   },
   "source": [
    "# Clean data"
   ]
  },
  {
   "cell_type": "code",
   "execution_count": 39,
   "id": "d307975f",
   "metadata": {
    "execution": {
     "iopub.execute_input": "2023-03-07T00:28:38.139196Z",
     "iopub.status.busy": "2023-03-07T00:28:38.138747Z",
     "iopub.status.idle": "2023-03-07T00:28:38.144835Z",
     "shell.execute_reply": "2023-03-07T00:28:38.143823Z"
    },
    "papermill": {
     "duration": 0.0329,
     "end_time": "2023-03-07T00:28:38.147249",
     "exception": false,
     "start_time": "2023-03-07T00:28:38.114349",
     "status": "completed"
    },
    "tags": []
   },
   "outputs": [],
   "source": [
    "# Change Pclass dtype to category as it's a classification feature\n",
    "df.Pclass = df.Pclass.astype('object')"
   ]
  },
  {
   "cell_type": "code",
   "execution_count": 40,
   "id": "9f32e7f9",
   "metadata": {
    "execution": {
     "iopub.execute_input": "2023-03-07T00:28:38.196586Z",
     "iopub.status.busy": "2023-03-07T00:28:38.196112Z",
     "iopub.status.idle": "2023-03-07T00:28:38.204281Z",
     "shell.execute_reply": "2023-03-07T00:28:38.203097Z"
    },
    "papermill": {
     "duration": 0.036462,
     "end_time": "2023-03-07T00:28:38.206799",
     "exception": false,
     "start_time": "2023-03-07T00:28:38.170337",
     "status": "completed"
    },
    "tags": []
   },
   "outputs": [],
   "source": [
    "# Drop further unused columns\n",
    "col_drop = ['Name', 'Ticket', 'Ticket_nr', 'Ticket_series', \n",
    "            'Fare', 'Cabin', 'Lastname', 'Passengers_ticket']\n",
    "df = df.drop(col_drop, axis=1)"
   ]
  },
  {
   "cell_type": "markdown",
   "id": "5ac695ca",
   "metadata": {
    "execution": {
     "iopub.execute_input": "2023-02-06T22:59:43.980076Z",
     "iopub.status.busy": "2023-02-06T22:59:43.979632Z",
     "iopub.status.idle": "2023-02-06T22:59:43.997049Z",
     "shell.execute_reply": "2023-02-06T22:59:43.994931Z",
     "shell.execute_reply.started": "2023-02-06T22:59:43.980040Z"
    },
    "papermill": {
     "duration": 0.023473,
     "end_time": "2023-03-07T00:28:38.253471",
     "exception": false,
     "start_time": "2023-03-07T00:28:38.229998",
     "status": "completed"
    },
    "tags": []
   },
   "source": [
    "# Impute and encode categoricals"
   ]
  },
  {
   "cell_type": "code",
   "execution_count": 41,
   "id": "ed84edd7",
   "metadata": {
    "execution": {
     "iopub.execute_input": "2023-03-07T00:28:38.302279Z",
     "iopub.status.busy": "2023-03-07T00:28:38.301839Z",
     "iopub.status.idle": "2023-03-07T00:28:38.323248Z",
     "shell.execute_reply": "2023-03-07T00:28:38.321809Z"
    },
    "papermill": {
     "duration": 0.04879,
     "end_time": "2023-03-07T00:28:38.325943",
     "exception": false,
     "start_time": "2023-03-07T00:28:38.277153",
     "status": "completed"
    },
    "tags": []
   },
   "outputs": [
    {
     "name": "stderr",
     "output_type": "stream",
     "text": [
      "C:\\Users\\akash\\AppData\\Local\\Temp\\ipykernel_4852\\3446695596.py:11: FutureWarning: In a future version, the Index constructor will not infer numeric dtypes when passed object-dtype sequences (matching Series behavior)\n",
      "  df_cat = pd.get_dummies(df_cat)\n"
     ]
    }
   ],
   "source": [
    "# List of categorical columns\n",
    "categ_cols = list(df.select_dtypes(exclude=[np.number]).columns)\n",
    "\n",
    "# Impute categoricals with most frequent value\n",
    "cat_imputer = SimpleImputer(strategy='most_frequent')\n",
    "\n",
    "df_cat = pd.DataFrame(cat_imputer.fit_transform(df[categ_cols]), \n",
    "                      columns=df[categ_cols].columns)\n",
    "\n",
    "# Encode categorical\n",
    "df_cat = pd.get_dummies(df_cat)"
   ]
  },
  {
   "cell_type": "markdown",
   "id": "ee46c894",
   "metadata": {
    "execution": {
     "iopub.status.busy": "2023-02-06T22:59:44.006430Z",
     "iopub.status.idle": "2023-02-06T22:59:44.006895Z",
     "shell.execute_reply": "2023-02-06T22:59:44.006708Z",
     "shell.execute_reply.started": "2023-02-06T22:59:44.006687Z"
    },
    "papermill": {
     "duration": 0.023088,
     "end_time": "2023-03-07T00:28:38.372241",
     "exception": false,
     "start_time": "2023-03-07T00:28:38.349153",
     "status": "completed"
    },
    "tags": []
   },
   "source": [
    "# Impute numericals"
   ]
  },
  {
   "cell_type": "code",
   "execution_count": 42,
   "id": "f0371dbf",
   "metadata": {
    "execution": {
     "iopub.execute_input": "2023-03-07T00:28:38.420639Z",
     "iopub.status.busy": "2023-03-07T00:28:38.420187Z",
     "iopub.status.idle": "2023-03-07T00:28:38.628255Z",
     "shell.execute_reply": "2023-03-07T00:28:38.626388Z"
    },
    "papermill": {
     "duration": 0.237872,
     "end_time": "2023-03-07T00:28:38.633191",
     "exception": false,
     "start_time": "2023-03-07T00:28:38.395319",
     "status": "completed"
    },
    "tags": []
   },
   "outputs": [],
   "source": [
    "# List of numerical columns\n",
    "num_cols = list(df.select_dtypes([np.number]).columns)\n",
    "\n",
    "# Impute numericals\n",
    "it_imp = IterativeImputer()\n",
    "\n",
    "df_num = pd.DataFrame(it_imp.fit_transform(df[num_cols]),\n",
    "                      columns=df[num_cols].columns)\n",
    "\n",
    "# Concatenate with encoded categorical columns\n",
    "df = pd.concat([df_cat, df_num], axis=1)"
   ]
  },
  {
   "cell_type": "markdown",
   "id": "daa23416",
   "metadata": {
    "papermill": {
     "duration": 0.022708,
     "end_time": "2023-03-07T00:28:38.753190",
     "exception": false,
     "start_time": "2023-03-07T00:28:38.730482",
     "status": "completed"
    },
    "tags": []
   },
   "source": [
    "# Feature engineering"
   ]
  },
  {
   "cell_type": "code",
   "execution_count": 43,
   "id": "ab2be74b",
   "metadata": {
    "execution": {
     "iopub.execute_input": "2023-03-07T00:28:38.801145Z",
     "iopub.status.busy": "2023-03-07T00:28:38.800699Z",
     "iopub.status.idle": "2023-03-07T00:28:38.811107Z",
     "shell.execute_reply": "2023-03-07T00:28:38.810140Z"
    },
    "papermill": {
     "duration": 0.037167,
     "end_time": "2023-03-07T00:28:38.813458",
     "exception": false,
     "start_time": "2023-03-07T00:28:38.776291",
     "status": "completed"
    },
    "tags": []
   },
   "outputs": [],
   "source": [
    "# Create a full data frame for analysis\n",
    "X = df[:X_max_index]\n",
    "full_df = pd.concat([X, y], axis=1)\n",
    "\n",
    "# Function for kde plotting\n",
    "def survive_chance_by(feature, xticks=None, xlim=None):\n",
    "    survived = full_df[full_df.Survived.eq(1)]\n",
    "    not_survived = full_df[full_df.Survived.eq(0)]\n",
    "\n",
    "    plt.figure(figsize=(10, 5))\n",
    "\n",
    "    survived[feature].plot(kind='kde', label='survived')\n",
    "    not_survived[feature].plot(kind='kde', label='not_survived')\n",
    "    \n",
    "    plt.xlim(xlim)\n",
    "    plt.xticks(xticks)\n",
    "    plt.legend()\n",
    "    plt.grid()\n",
    "    plt.xlabel(feature)\n",
    "    plt.show()"
   ]
  },
  {
   "cell_type": "markdown",
   "id": "602be7d4",
   "metadata": {
    "execution": {
     "iopub.status.busy": "2023-02-06T22:59:44.021554Z",
     "iopub.status.idle": "2023-02-06T22:59:44.022458Z",
     "shell.execute_reply": "2023-02-06T22:59:44.022251Z",
     "shell.execute_reply.started": "2023-02-06T22:59:44.022224Z"
    },
    "papermill": {
     "duration": 0.023312,
     "end_time": "2023-03-07T00:28:38.859754",
     "exception": false,
     "start_time": "2023-03-07T00:28:38.836442",
     "status": "completed"
    },
    "tags": []
   },
   "source": [
    "# Create Age_group"
   ]
  },
  {
   "cell_type": "code",
   "execution_count": 44,
   "id": "7fbbb6f0",
   "metadata": {
    "execution": {
     "iopub.execute_input": "2023-03-07T00:28:38.908442Z",
     "iopub.status.busy": "2023-03-07T00:28:38.907121Z",
     "iopub.status.idle": "2023-03-07T00:28:39.140109Z",
     "shell.execute_reply": "2023-03-07T00:28:39.138866Z"
    },
    "papermill": {
     "duration": 0.259699,
     "end_time": "2023-03-07T00:28:39.142466",
     "exception": false,
     "start_time": "2023-03-07T00:28:38.882767",
     "status": "completed"
    },
    "tags": []
   },
   "outputs": [
    {
     "data": {
      "image/png": "[encoded data removed]",
      "text/plain": [
       "<Figure size 1000x500 with 1 Axes>"
      ]
     },
     "metadata": {},
     "output_type": "display_data"
    }
   ],
   "source": [
    "# Survivers by Age\n",
    "survive_chance_by('Age', np.arange(0, 80, 5), (0, 80))"
   ]
  },
  {
   "cell_type": "markdown",
   "id": "0fdd7d58",
   "metadata": {
    "execution": {
     "iopub.execute_input": "2023-02-06T23:00:51.490531Z",
     "iopub.status.busy": "2023-02-06T23:00:51.489379Z",
     "iopub.status.idle": "2023-02-06T23:00:51.499884Z",
     "shell.execute_reply": "2023-02-06T23:00:51.497841Z",
     "shell.execute_reply.started": "2023-02-06T23:00:51.490487Z"
    },
    "papermill": {
     "duration": 0.025102,
     "end_time": "2023-03-07T00:28:39.191381",
     "exception": false,
     "start_time": "2023-03-07T00:28:39.166279",
     "status": "completed"
    },
    "tags": []
   },
   "source": [
    "By curves intersection points we can separate 5 age groups"
   ]
  },
  {
   "cell_type": "code",
   "execution_count": 45,
   "id": "d7014577",
   "metadata": {
    "execution": {
     "iopub.execute_input": "2023-03-07T00:28:39.258880Z",
     "iopub.status.busy": "2023-03-07T00:28:39.258250Z",
     "iopub.status.idle": "2023-03-07T00:28:39.271475Z",
     "shell.execute_reply": "2023-03-07T00:28:39.270225Z"
    },
    "papermill": {
     "duration": 0.055571,
     "end_time": "2023-03-07T00:28:39.274469",
     "exception": false,
     "start_time": "2023-03-07T00:28:39.218898",
     "status": "completed"
    },
    "tags": []
   },
   "outputs": [],
   "source": [
    "df['Age_group'] = pd.cut(x=df.Age, labels=[5, 1, 4, 3, 2],\n",
    "                         bins=[-1, 15, 33, 45, 60, df.Age.max()]).astype('float')"
   ]
  },
  {
   "cell_type": "markdown",
   "id": "f588ad42",
   "metadata": {
    "execution": {
     "iopub.status.busy": "2023-02-06T22:59:44.030628Z",
     "iopub.status.idle": "2023-02-06T22:59:44.031418Z",
     "shell.execute_reply": "2023-02-06T22:59:44.031221Z",
     "shell.execute_reply.started": "2023-02-06T22:59:44.031192Z"
    },
    "papermill": {
     "duration": 0.023166,
     "end_time": "2023-03-07T00:28:39.327688",
     "exception": false,
     "start_time": "2023-03-07T00:28:39.304522",
     "status": "completed"
    },
    "tags": []
   },
   "source": [
    "# Create Family_group"
   ]
  },
  {
   "cell_type": "code",
   "execution_count": 46,
   "id": "c990ce01",
   "metadata": {
    "execution": {
     "iopub.execute_input": "2023-03-07T00:28:39.377548Z",
     "iopub.status.busy": "2023-03-07T00:28:39.377059Z",
     "iopub.status.idle": "2023-03-07T00:28:39.587270Z",
     "shell.execute_reply": "2023-03-07T00:28:39.586083Z"
    },
    "papermill": {
     "duration": 0.238014,
     "end_time": "2023-03-07T00:28:39.589906",
     "exception": false,
     "start_time": "2023-03-07T00:28:39.351892",
     "status": "completed"
    },
    "tags": []
   },
   "outputs": [
    {
     "data": {
      "image/png": "[encoded data removed]",
      "text/plain": [
       "<Figure size 1000x500 with 1 Axes>"
      ]
     },
     "metadata": {},
     "output_type": "display_data"
    }
   ],
   "source": [
    "# Survivers by Family_size\n",
    "survive_chance_by('Family_size', np.arange(0, 10, 1), (0, 10))"
   ]
  },
  {
   "cell_type": "markdown",
   "id": "aa9c0e95",
   "metadata": {
    "execution": {
     "iopub.status.busy": "2023-02-06T23:00:51.508081Z",
     "iopub.status.idle": "2023-02-06T23:00:51.508891Z",
     "shell.execute_reply": "2023-02-06T23:00:51.508565Z",
     "shell.execute_reply.started": "2023-02-06T23:00:51.508529Z"
    },
    "papermill": {
     "duration": 0.023675,
     "end_time": "2023-03-07T00:28:39.637696",
     "exception": false,
     "start_time": "2023-03-07T00:28:39.614021",
     "status": "completed"
    },
    "tags": []
   },
   "source": [
    "Here we can separate 3 groups:\n",
    "\n",
    "    1. Single persons had lower chance to survive\n",
    "    2. 2-4 members families had higher chances, as they had some priority to safeboats with 1-2 children with them\n",
    "    3. 5 and more members families had almost equal chances"
   ]
  },
  {
   "cell_type": "code",
   "execution_count": 47,
   "id": "dd9902c0",
   "metadata": {
    "execution": {
     "iopub.execute_input": "2023-03-07T00:28:39.687748Z",
     "iopub.status.busy": "2023-03-07T00:28:39.686811Z",
     "iopub.status.idle": "2023-03-07T00:28:39.694874Z",
     "shell.execute_reply": "2023-03-07T00:28:39.693952Z"
    },
    "papermill": {
     "duration": 0.035789,
     "end_time": "2023-03-07T00:28:39.697406",
     "exception": false,
     "start_time": "2023-03-07T00:28:39.661617",
     "status": "completed"
    },
    "tags": []
   },
   "outputs": [],
   "source": [
    "# Create Family_group feature\n",
    "df['Family_group'] = pd.cut(x=df.Family_size, labels=[1, 3, 2], \n",
    "                            bins=[-1, 1, 4, df.Family_size.max()]).astype('float')"
   ]
  },
  {
   "cell_type": "markdown",
   "id": "d6bf21cf",
   "metadata": {
    "papermill": {
     "duration": 0.023762,
     "end_time": "2023-03-07T00:28:39.745293",
     "exception": false,
     "start_time": "2023-03-07T00:28:39.721531",
     "status": "completed"
    },
    "tags": []
   },
   "source": [
    "# Create Lucky_family\n",
    "To create this feature we analyse earlier created Family_survivers that used by itself would overfit the model"
   ]
  },
  {
   "cell_type": "code",
   "execution_count": 48,
   "id": "8cd07ae9",
   "metadata": {
    "execution": {
     "iopub.execute_input": "2023-03-07T00:28:39.796090Z",
     "iopub.status.busy": "2023-03-07T00:28:39.795404Z",
     "iopub.status.idle": "2023-03-07T00:28:40.143112Z",
     "shell.execute_reply": "2023-03-07T00:28:40.142127Z"
    },
    "papermill": {
     "duration": 0.375905,
     "end_time": "2023-03-07T00:28:40.145614",
     "exception": false,
     "start_time": "2023-03-07T00:28:39.769709",
     "status": "completed"
    },
    "tags": []
   },
   "outputs": [
    {
     "data": {
      "image/png": "[encoded data removed]",
      "text/plain": [
       "<Figure size 1000x500 with 1 Axes>"
      ]
     },
     "metadata": {},
     "output_type": "display_data"
    }
   ],
   "source": [
    "# Survivers by Family_survivers\n",
    "survive_chance_by('Family_survivers', np.arange(0, 1, 0.1), (0, 1))"
   ]
  },
  {
   "cell_type": "markdown",
   "id": "6ea718b7",
   "metadata": {
    "papermill": {
     "duration": 0.025305,
     "end_time": "2023-03-07T00:28:40.196447",
     "exception": false,
     "start_time": "2023-03-07T00:28:40.171142",
     "status": "completed"
    },
    "tags": []
   },
   "source": [
    "By curves intersection points we can separate 4 family groups with different chance to survive"
   ]
  },
  {
   "cell_type": "code",
   "execution_count": 49,
   "id": "0528785f",
   "metadata": {
    "execution": {
     "iopub.execute_input": "2023-03-07T00:28:40.248698Z",
     "iopub.status.busy": "2023-03-07T00:28:40.248248Z",
     "iopub.status.idle": "2023-03-07T00:28:40.257907Z",
     "shell.execute_reply": "2023-03-07T00:28:40.256943Z"
    },
    "papermill": {
     "duration": 0.039107,
     "end_time": "2023-03-07T00:28:40.260389",
     "exception": false,
     "start_time": "2023-03-07T00:28:40.221282",
     "status": "completed"
    },
    "tags": []
   },
   "outputs": [],
   "source": [
    "# Create Lucky_family feature\n",
    "df['Lucky_family'] = pd.cut(x=df.Family_survivers, labels=[2, 3, 1, 4],\n",
    "                            bins=[-1, 0.22, 0.35, 0.49, df.Family_survivers.max()]).astype('float')"
   ]
  },
  {
   "cell_type": "markdown",
   "id": "3145b106",
   "metadata": {
    "execution": {
     "iopub.status.busy": "2023-02-06T22:59:44.042968Z",
     "iopub.status.idle": "2023-02-06T22:59:44.043445Z",
     "shell.execute_reply": "2023-02-06T22:59:44.043231Z",
     "shell.execute_reply.started": "2023-02-06T22:59:44.043210Z"
    },
    "papermill": {
     "duration": 0.025623,
     "end_time": "2023-03-07T00:28:40.311759",
     "exception": false,
     "start_time": "2023-03-07T00:28:40.286136",
     "status": "completed"
    },
    "tags": []
   },
   "source": [
    "# Standardization"
   ]
  },
  {
   "cell_type": "code",
   "execution_count": 50,
   "id": "8c1c9227",
   "metadata": {
    "execution": {
     "iopub.execute_input": "2023-03-07T00:28:40.364591Z",
     "iopub.status.busy": "2023-03-07T00:28:40.363966Z",
     "iopub.status.idle": "2023-03-07T00:28:40.375251Z",
     "shell.execute_reply": "2023-03-07T00:28:40.373906Z"
    },
    "papermill": {
     "duration": 0.040805,
     "end_time": "2023-03-07T00:28:40.377777",
     "exception": false,
     "start_time": "2023-03-07T00:28:40.336972",
     "status": "completed"
    },
    "tags": []
   },
   "outputs": [],
   "source": [
    "# Apply np.log to normalize the skewed right Price\n",
    "df.Price = df.Price.apply(np.log1p)\n",
    "\n",
    "# Standardize \n",
    "std_scaler = StandardScaler()\n",
    "\n",
    "df_scaled = std_scaler.fit_transform(df)\n",
    "df = pd.DataFrame(df_scaled, columns=df.columns)"
   ]
  },
  {
   "cell_type": "code",
   "execution_count": 51,
   "id": "a15a5b0d",
   "metadata": {
    "execution": {
     "iopub.execute_input": "2023-03-07T00:28:40.429066Z",
     "iopub.status.busy": "2023-03-07T00:28:40.428636Z",
     "iopub.status.idle": "2023-03-07T00:28:40.435533Z",
     "shell.execute_reply": "2023-03-07T00:28:40.434322Z"
    },
    "papermill": {
     "duration": 0.03559,
     "end_time": "2023-03-07T00:28:40.438121",
     "exception": false,
     "start_time": "2023-03-07T00:28:40.402531",
     "status": "completed"
    },
    "tags": []
   },
   "outputs": [],
   "source": [
    "# Drop features not used for modeling\n",
    "cols_to_drop = ['Family_survivers']\n",
    "df = df.drop(cols_to_drop, axis=1)"
   ]
  },
  {
   "cell_type": "markdown",
   "id": "4c3f6110",
   "metadata": {
    "execution": {
     "iopub.execute_input": "2023-02-06T23:01:18.326265Z",
     "iopub.status.busy": "2023-02-06T23:01:18.325562Z",
     "iopub.status.idle": "2023-02-06T23:01:18.338288Z",
     "shell.execute_reply": "2023-02-06T23:01:18.336437Z",
     "shell.execute_reply.started": "2023-02-06T23:01:18.326196Z"
    },
    "papermill": {
     "duration": 0.025676,
     "end_time": "2023-03-07T00:28:40.489248",
     "exception": false,
     "start_time": "2023-03-07T00:28:40.463572",
     "status": "completed"
    },
    "tags": []
   },
   "source": [
    "# Split train and test data"
   ]
  },
  {
   "cell_type": "code",
   "execution_count": 52,
   "id": "caa6c427",
   "metadata": {
    "execution": {
     "iopub.execute_input": "2023-03-07T00:28:40.541880Z",
     "iopub.status.busy": "2023-03-07T00:28:40.540741Z",
     "iopub.status.idle": "2023-03-07T00:28:40.546128Z",
     "shell.execute_reply": "2023-03-07T00:28:40.545281Z"
    },
    "papermill": {
     "duration": 0.033726,
     "end_time": "2023-03-07T00:28:40.548363",
     "exception": false,
     "start_time": "2023-03-07T00:28:40.514637",
     "status": "completed"
    },
    "tags": []
   },
   "outputs": [],
   "source": [
    "X = df[:X_max_index]\n",
    "test_df = df[X_max_index:]"
   ]
  },
  {
   "cell_type": "markdown",
   "id": "6e67b2de",
   "metadata": {
    "execution": {
     "iopub.status.busy": "2023-02-06T23:01:18.340647Z",
     "iopub.status.idle": "2023-02-06T23:01:18.341374Z",
     "shell.execute_reply": "2023-02-06T23:01:18.341057Z",
     "shell.execute_reply.started": "2023-02-06T23:01:18.341023Z"
    },
    "papermill": {
     "duration": 0.02587,
     "end_time": "2023-03-07T00:28:40.599067",
     "exception": false,
     "start_time": "2023-03-07T00:28:40.573197",
     "status": "completed"
    },
    "tags": []
   },
   "source": [
    "# Processed data correlation"
   ]
  },
  {
   "cell_type": "code",
   "execution_count": 53,
   "id": "16724ea9",
   "metadata": {
    "execution": {
     "iopub.execute_input": "2023-03-07T00:28:40.650755Z",
     "iopub.status.busy": "2023-03-07T00:28:40.650002Z",
     "iopub.status.idle": "2023-03-07T00:28:40.947807Z",
     "shell.execute_reply": "2023-03-07T00:28:40.946475Z"
    },
    "papermill": {
     "duration": 0.326676,
     "end_time": "2023-03-07T00:28:40.950477",
     "exception": false,
     "start_time": "2023-03-07T00:28:40.623801",
     "status": "completed"
    },
    "tags": []
   },
   "outputs": [
    {
     "data": {
      "image/png": "[encoded data removed]",
      "text/plain": [
       "<Figure size 1000x500 with 1 Axes>"
      ]
     },
     "metadata": {},
     "output_type": "display_data"
    }
   ],
   "source": [
    "# Concatenate into a full dataset\n",
    "full_df = pd.concat([X, y], axis=1)\n",
    "\n",
    "correlation = full_df.corr()['Survived'].sort_values(ascending=False)\n",
    "\n",
    "# Correlation graph\n",
    "correlation[1:].plot(kind='bar', figsize=(10,5), title='Survivability dependency')\n",
    "plt.show()"
   ]
  },
  {
   "cell_type": "markdown",
   "id": "42211324",
   "metadata": {
    "execution": {
     "iopub.status.busy": "2023-02-06T22:59:44.058440Z",
     "iopub.status.idle": "2023-02-06T22:59:44.058839Z",
     "shell.execute_reply": "2023-02-06T22:59:44.058670Z",
     "shell.execute_reply.started": "2023-02-06T22:59:44.058649Z"
    },
    "papermill": {
     "duration": 0.024712,
     "end_time": "2023-03-07T00:28:41.000436",
     "exception": false,
     "start_time": "2023-03-07T00:28:40.975724",
     "status": "completed"
    },
    "tags": []
   },
   "source": [
    "# Conclusion\n",
    "\n",
    "On the Titanic is better to not be an usual single adult male on a lower deck and embarked from Southampton with a cheap ticket in the pocket - RIP Jack Dawson :-("
   ]
  },
  {
   "cell_type": "markdown",
   "id": "10f5dde6",
   "metadata": {
    "papermill": {
     "duration": 0.026252,
     "end_time": "2023-03-07T00:28:41.051876",
     "exception": false,
     "start_time": "2023-03-07T00:28:41.025624",
     "status": "completed"
    },
    "tags": []
   },
   "source": [
    "# CatBoost grid search parameter tuning\n",
    "This cell is commented out as it takes long time to run and the resulted parameters are shown further"
   ]
  },
  {
   "cell_type": "code",
   "execution_count": 54,
   "id": "cee10c7f",
   "metadata": {
    "execution": {
     "iopub.execute_input": "2023-03-07T00:28:41.106818Z",
     "iopub.status.busy": "2023-03-07T00:28:41.106361Z",
     "iopub.status.idle": "2023-03-07T00:28:41.111984Z",
     "shell.execute_reply": "2023-03-07T00:28:41.110612Z"
    },
    "papermill": {
     "duration": 0.036133,
     "end_time": "2023-03-07T00:28:41.114684",
     "exception": false,
     "start_time": "2023-03-07T00:28:41.078551",
     "status": "completed"
    },
    "tags": []
   },
   "outputs": [],
   "source": [
    "# # Define model\n",
    "# cat_model = CatBoostClassifier()\n",
    "\n",
    "# # Define parameters' grid\n",
    "# grid = {'verbose': [False],\n",
    "#         'thread_count': [-1],\n",
    "#         'depth': [3, 4, 5, 6],\n",
    "#         'iterations': [500, 1000, 2000, 3000],\n",
    "#         'learning_rate': [0.0001, 0.001, 0.01]}\n",
    "\n",
    "# # Define GridSearchCV\n",
    "# grid_cat = GridSearchCV(estimator=cat_model, param_grid=grid, cv=3, n_jobs=-1)\n",
    "# grid_cat.fit(X[final_features], y)\n",
    "\n",
    "# params = grid_cat.best_params_\n",
    "\n",
    "# print('\\n Best Score:\\n', grid_cat.best_score_)\n",
    "# print('\\n Best parameters:\\n', params)"
   ]
  },
  {
   "cell_type": "code",
   "execution_count": 55,
   "id": "351f1771",
   "metadata": {
    "execution": {
     "iopub.execute_input": "2023-03-07T00:28:41.169990Z",
     "iopub.status.busy": "2023-03-07T00:28:41.169139Z",
     "iopub.status.idle": "2023-03-07T00:28:41.174824Z",
     "shell.execute_reply": "2023-03-07T00:28:41.173943Z"
    },
    "papermill": {
     "duration": 0.035939,
     "end_time": "2023-03-07T00:28:41.177335",
     "exception": false,
     "start_time": "2023-03-07T00:28:41.141396",
     "status": "completed"
    },
    "tags": []
   },
   "outputs": [],
   "source": [
    "# Best parameters\n",
    "cat_params = {'verbose': False,\n",
    "          'thread_count': -1,\n",
    "          'depth': 4, \n",
    "          'iterations': 1000, \n",
    "          'learning_rate': 0.0005}"
   ]
  },
  {
   "cell_type": "markdown",
   "id": "c049a7c3",
   "metadata": {
    "execution": {
     "iopub.status.busy": "2023-02-06T22:59:44.061203Z",
     "iopub.status.idle": "2023-02-06T22:59:44.061641Z",
     "shell.execute_reply": "2023-02-06T22:59:44.061463Z",
     "shell.execute_reply.started": "2023-02-06T22:59:44.061442Z"
    },
    "papermill": {
     "duration": 0.025053,
     "end_time": "2023-03-07T00:28:41.227861",
     "exception": false,
     "start_time": "2023-03-07T00:28:41.202808",
     "status": "completed"
    },
    "tags": []
   },
   "source": [
    "# CatBoost model"
   ]
  },
  {
   "cell_type": "code",
   "execution_count": 56,
   "id": "138642c8",
   "metadata": {
    "execution": {
     "iopub.execute_input": "2023-03-07T00:28:41.282260Z",
     "iopub.status.busy": "2023-03-07T00:28:41.281433Z",
     "iopub.status.idle": "2023-03-07T00:28:48.123670Z",
     "shell.execute_reply": "2023-03-07T00:28:48.122194Z"
    },
    "papermill": {
     "duration": 6.873329,
     "end_time": "2023-03-07T00:28:48.126679",
     "exception": false,
     "start_time": "2023-03-07T00:28:41.253350",
     "status": "completed"
    },
    "tags": []
   },
   "outputs": [
    {
     "name": "stdout",
     "output_type": "stream",
     "text": [
      "count    5.000000\n",
      "mean     0.824945\n",
      "std      0.017520\n",
      "min      0.798883\n",
      "25%      0.814607\n",
      "50%      0.837079\n",
      "75%      0.837079\n",
      "max      0.837079\n",
      "dtype: float64\n",
      "\n",
      "             Feature Id  Importances\n",
      "0         Lucky_family    23.504852\n",
      "1             Sex_male    15.170032\n",
      "2           Sex_female    13.904196\n",
      "3             Title_Mr    11.333412\n",
      "4           Status_Man     9.379041\n",
      "5             Pclass_3     6.278832\n",
      "6   Deck_survive_ratio     4.767186\n",
      "7                Price     3.578620\n",
      "8          Family_size     2.030147\n",
      "9             Pclass_1     1.571889\n",
      "10      Escape_density     1.392729\n",
      "11                Deck     1.387674\n",
      "12           Age_group     1.108085\n",
      "13        Family_group     1.094339\n",
      "14                 Age     0.999447\n",
      "15               SibSp     0.884494\n",
      "16            Pclass_2     0.395426\n",
      "17               Parch     0.342392\n",
      "18        Title_Master     0.314973\n",
      "19        Status_Woman     0.176226\n",
      "20        Status_Child     0.164247\n",
      "21          Embarked_S     0.105921\n",
      "22          Embarked_C     0.061734\n",
      "23          Title_Miss     0.016241\n",
      "24           Title_Mrs     0.015063\n",
      "25       Status_Mother     0.012169\n",
      "26          Embarked_Q     0.010632\n"
     ]
    }
   ],
   "source": [
    "# Define and fit the CatBoost model\n",
    "cat_model = CatBoostClassifier(**cat_params)\n",
    "cat_model.fit(X, y)\n",
    "\n",
    "# Check accuracy and features importance\n",
    "cat_rmses = cross_val_score(cat_model, X, y, cv=5)\n",
    "\n",
    "print(pd.Series(cat_rmses).describe())\n",
    "print('\\n', cat_model.get_feature_importance(prettified=True))"
   ]
  },
  {
   "cell_type": "markdown",
   "id": "6bc84f72",
   "metadata": {
    "execution": {
     "iopub.status.busy": "2023-02-06T22:59:44.065525Z",
     "iopub.status.idle": "2023-02-06T22:59:44.066348Z",
     "shell.execute_reply": "2023-02-06T22:59:44.066094Z",
     "shell.execute_reply.started": "2023-02-06T22:59:44.066054Z"
    },
    "papermill": {
     "duration": 0.025312,
     "end_time": "2023-03-07T00:28:48.178056",
     "exception": false,
     "start_time": "2023-03-07T00:28:48.152744",
     "status": "completed"
    },
    "tags": []
   },
   "source": [
    "# Submission"
   ]
  },
  {
   "cell_type": "code",
   "execution_count": 57,
   "id": "b147b155",
   "metadata": {
    "execution": {
     "iopub.execute_input": "2023-03-07T00:28:48.232692Z",
     "iopub.status.busy": "2023-03-07T00:28:48.231960Z",
     "iopub.status.idle": "2023-03-07T00:28:48.246156Z",
     "shell.execute_reply": "2023-03-07T00:28:48.245104Z"
    },
    "papermill": {
     "duration": 0.044884,
     "end_time": "2023-03-07T00:28:48.248747",
     "exception": false,
     "start_time": "2023-03-07T00:28:48.203863",
     "status": "completed"
    },
    "tags": []
   },
   "outputs": [],
   "source": [
    "# Make predictions which we will submit.\n",
    "test_preds = cat_model.predict(test_df)\n",
    "\n",
    "# Save predictions in the format used for competition scoring\n",
    "output = pd.DataFrame({'PassengerId': test_pass_id,\n",
    "                       'Survived': test_preds})\n",
    "output.to_csv('submission.csv', index=False)"
   ]
  },
  {
   "cell_type": "code",
   "execution_count": 58,
   "id": "c03ed72e",
   "metadata": {},
   "outputs": [
    {
     "data": {
      "text/html": [
       "<div>\n",
       "<style scoped>\n",
       "    .dataframe tbody tr th:only-of-type {\n",
       "        vertical-align: middle;\n",
       "    }\n",
       "\n",
       "    .dataframe tbody tr th {\n",
       "        vertical-align: top;\n",
       "    }\n",
       "\n",
       "    .dataframe thead th {\n",
       "        text-align: right;\n",
       "    }\n",
       "</style>\n",
       "<table border=\"1\" class=\"dataframe\">\n",
       "  <thead>\n",
       "    <tr style=\"text-align: right;\">\n",
       "      <th></th>\n",
       "      <th>PassengerId</th>\n",
       "      <th>Survived</th>\n",
       "    </tr>\n",
       "  </thead>\n",
       "  <tbody>\n",
       "    <tr>\n",
       "      <th>0</th>\n",
       "      <td>892</td>\n",
       "      <td>0</td>\n",
       "    </tr>\n",
       "    <tr>\n",
       "      <th>1</th>\n",
       "      <td>893</td>\n",
       "      <td>1</td>\n",
       "    </tr>\n",
       "    <tr>\n",
       "      <th>2</th>\n",
       "      <td>894</td>\n",
       "      <td>0</td>\n",
       "    </tr>\n",
       "    <tr>\n",
       "      <th>3</th>\n",
       "      <td>895</td>\n",
       "      <td>0</td>\n",
       "    </tr>\n",
       "    <tr>\n",
       "      <th>4</th>\n",
       "      <td>896</td>\n",
       "      <td>1</td>\n",
       "    </tr>\n",
       "    <tr>\n",
       "      <th>...</th>\n",
       "      <td>...</td>\n",
       "      <td>...</td>\n",
       "    </tr>\n",
       "    <tr>\n",
       "      <th>413</th>\n",
       "      <td>1305</td>\n",
       "      <td>0</td>\n",
       "    </tr>\n",
       "    <tr>\n",
       "      <th>414</th>\n",
       "      <td>1306</td>\n",
       "      <td>1</td>\n",
       "    </tr>\n",
       "    <tr>\n",
       "      <th>415</th>\n",
       "      <td>1307</td>\n",
       "      <td>0</td>\n",
       "    </tr>\n",
       "    <tr>\n",
       "      <th>416</th>\n",
       "      <td>1308</td>\n",
       "      <td>0</td>\n",
       "    </tr>\n",
       "    <tr>\n",
       "      <th>417</th>\n",
       "      <td>1309</td>\n",
       "      <td>1</td>\n",
       "    </tr>\n",
       "  </tbody>\n",
       "</table>\n",
       "<p>418 rows × 2 columns</p>\n",
       "</div>"
      ],
      "text/plain": [
       "     PassengerId  Survived\n",
       "0            892         0\n",
       "1            893         1\n",
       "2            894         0\n",
       "3            895         0\n",
       "4            896         1\n",
       "..           ...       ...\n",
       "413         1305         0\n",
       "414         1306         1\n",
       "415         1307         0\n",
       "416         1308         0\n",
       "417         1309         1\n",
       "\n",
       "[418 rows x 2 columns]"
      ]
     },
     "execution_count": 58,
     "metadata": {},
     "output_type": "execute_result"
    }
   ],
   "source": [
    "output"
   ]
  },
  {
   "cell_type": "code",
   "execution_count": null,
   "id": "6183583d",
   "metadata": {},
   "outputs": [],
   "source": []
  }
 ],
 "metadata": {
  "kernelspec": {
   "display_name": "Python 3 (ipykernel)",
   "language": "python",
   "name": "python3"
  },
  "language_info": {
   "codemirror_mode": {
    "name": "ipython",
    "version": 3
   },
   "file_extension": ".py",
   "mimetype": "text/x-python",
   "name": "python",
   "nbconvert_exporter": "python",
   "pygments_lexer": "ipython3",
   "version": "3.11.4"
  },
  "papermill": {
   "default_parameters": {},
   "duration": 29.36056,
   "end_time": "2023-03-07T00:28:49.096866",
   "environment_variables": {},
   "exception": null,
   "input_path": "__notebook__.ipynb",
   "output_path": "__notebook__.ipynb",
   "parameters": {},
   "start_time": "2023-03-07T00:28:19.736306",
   "version": "2.3.4"
  }
 },
 "nbformat": 4,
 "nbformat_minor": 5
}
